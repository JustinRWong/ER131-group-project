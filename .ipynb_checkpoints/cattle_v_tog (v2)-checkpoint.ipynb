{
 "cells": [
  {
   "cell_type": "code",
   "execution_count": 148,
   "metadata": {},
   "outputs": [],
   "source": [
    "import pandas as pd\n",
    "import seaborn as sns\n",
    "import matplotlib.pyplot as plt\n",
    "import numpy as np\n",
    "import geopandas as gpd\n",
    "import csv\n",
    "from sklearn import datasets, linear_model\n",
    "from sklearn.linear_model import LogisticRegression\n",
    "from sklearn.metrics import mean_squared_error, r2_score\n",
    "from sklearn.linear_model import LinearRegression"
   ]
  },
  {
   "cell_type": "markdown",
   "metadata": {},
   "source": [
    "DATA CLEANING"
   ]
  },
  {
   "cell_type": "markdown",
   "metadata": {},
   "source": [
    "Using the aggregated Vista_CA data, I mreged it with USDA livestock data. Since each row represents a single county in both data sets, the data cleaning was relatively straightforward. Furthermore the variables of interest were also recorded in the same year (2012). We first looked into whether there were any mismatches in the counties that were feautured in both data sets and upon further exploration found that the livestock data included an extra county. Then upon looking into the data featured in livestock, we filtered out values of 'D' which represent records of undisclosed information. Lastly we converted the Value column into an int data type so we could use it to build numerical models and renamed the value column to 2012 Cattle Sales. We renamed the aggregated column Closest_County_Centroid to County to ultimately merge with the livestock data on the County column."
   ]
  },
  {
   "cell_type": "code",
   "execution_count": 149,
   "metadata": {},
   "outputs": [
    {
     "name": "stdout",
     "output_type": "stream",
     "text": [
      "Number of observations: 54\n"
     ]
    }
   ],
   "source": [
    "aggregated=pd.read_csv('aggregated_vista_ca_by_county_emseic_merged - aggregated_vista_ca_by_county_emseic_merged.csv')\n",
    "\n",
    "print('Number of observations:',len(aggregated['Closest_County_Centroid'].unique()))"
   ]
  },
  {
   "cell_type": "code",
   "execution_count": 150,
   "metadata": {},
   "outputs": [
    {
     "data": {
      "text/html": [
       "<div>\n",
       "<style scoped>\n",
       "    .dataframe tbody tr th:only-of-type {\n",
       "        vertical-align: middle;\n",
       "    }\n",
       "\n",
       "    .dataframe tbody tr th {\n",
       "        vertical-align: top;\n",
       "    }\n",
       "\n",
       "    .dataframe thead th {\n",
       "        text-align: right;\n",
       "    }\n",
       "</style>\n",
       "<table border=\"1\" class=\"dataframe\">\n",
       "  <thead>\n",
       "    <tr style=\"text-align: right;\">\n",
       "      <th></th>\n",
       "      <th>County</th>\n",
       "      <th>Composting Sites</th>\n",
       "      <th>Compressed Natural Gas Fueling Station</th>\n",
       "      <th>Dairy</th>\n",
       "      <th>Digester</th>\n",
       "      <th>Feed Lot</th>\n",
       "      <th>Landfill</th>\n",
       "      <th>Liquefied Natural Gas Fueling Station</th>\n",
       "      <th>Natural Gas Processing Plants</th>\n",
       "      <th>Natural Gas Station</th>\n",
       "      <th>...</th>\n",
       "      <th>Centroid_Longitude</th>\n",
       "      <th>TOG</th>\n",
       "      <th>ROG</th>\n",
       "      <th>COT</th>\n",
       "      <th>NOX</th>\n",
       "      <th>SOX</th>\n",
       "      <th>PM</th>\n",
       "      <th>PM10</th>\n",
       "      <th>PM2_5</th>\n",
       "      <th>Total Facilities</th>\n",
       "    </tr>\n",
       "  </thead>\n",
       "  <tbody>\n",
       "    <tr>\n",
       "      <th>0</th>\n",
       "      <td>ALAMEDA</td>\n",
       "      <td>6</td>\n",
       "      <td>0</td>\n",
       "      <td>0</td>\n",
       "      <td>0</td>\n",
       "      <td>0</td>\n",
       "      <td>42</td>\n",
       "      <td>3</td>\n",
       "      <td>0</td>\n",
       "      <td>35</td>\n",
       "      <td>...</td>\n",
       "      <td>-121.912488</td>\n",
       "      <td>134.840060</td>\n",
       "      <td>52.964215</td>\n",
       "      <td>218.327664</td>\n",
       "      <td>70.393760</td>\n",
       "      <td>2.1303</td>\n",
       "      <td>29.412402</td>\n",
       "      <td>18.091634</td>\n",
       "      <td>8.204909</td>\n",
       "      <td>231</td>\n",
       "    </tr>\n",
       "    <tr>\n",
       "      <th>1</th>\n",
       "      <td>AMADOR</td>\n",
       "      <td>1</td>\n",
       "      <td>0</td>\n",
       "      <td>0</td>\n",
       "      <td>0</td>\n",
       "      <td>0</td>\n",
       "      <td>0</td>\n",
       "      <td>0</td>\n",
       "      <td>0</td>\n",
       "      <td>1</td>\n",
       "      <td>...</td>\n",
       "      <td>-120.653856</td>\n",
       "      <td>10.252184</td>\n",
       "      <td>5.091711</td>\n",
       "      <td>19.055692</td>\n",
       "      <td>4.357744</td>\n",
       "      <td>0.1249</td>\n",
       "      <td>8.725638</td>\n",
       "      <td>5.396293</td>\n",
       "      <td>2.941648</td>\n",
       "      <td>4</td>\n",
       "    </tr>\n",
       "    <tr>\n",
       "      <th>2</th>\n",
       "      <td>BUTTE</td>\n",
       "      <td>5</td>\n",
       "      <td>0</td>\n",
       "      <td>3</td>\n",
       "      <td>1</td>\n",
       "      <td>0</td>\n",
       "      <td>1</td>\n",
       "      <td>0</td>\n",
       "      <td>0</td>\n",
       "      <td>9</td>\n",
       "      <td>...</td>\n",
       "      <td>-121.601919</td>\n",
       "      <td>23.291007</td>\n",
       "      <td>14.396062</td>\n",
       "      <td>69.518978</td>\n",
       "      <td>18.730721</td>\n",
       "      <td>0.2657</td>\n",
       "      <td>31.816585</td>\n",
       "      <td>17.991954</td>\n",
       "      <td>5.661389</td>\n",
       "      <td>261</td>\n",
       "    </tr>\n",
       "    <tr>\n",
       "      <th>3</th>\n",
       "      <td>CALAVERAS</td>\n",
       "      <td>1</td>\n",
       "      <td>0</td>\n",
       "      <td>0</td>\n",
       "      <td>0</td>\n",
       "      <td>0</td>\n",
       "      <td>0</td>\n",
       "      <td>0</td>\n",
       "      <td>0</td>\n",
       "      <td>2</td>\n",
       "      <td>...</td>\n",
       "      <td>-120.561442</td>\n",
       "      <td>11.288079</td>\n",
       "      <td>5.075024</td>\n",
       "      <td>21.024100</td>\n",
       "      <td>2.769050</td>\n",
       "      <td>0.0387</td>\n",
       "      <td>5.729100</td>\n",
       "      <td>3.691200</td>\n",
       "      <td>1.326400</td>\n",
       "      <td>7</td>\n",
       "    </tr>\n",
       "    <tr>\n",
       "      <th>4</th>\n",
       "      <td>COLUSA</td>\n",
       "      <td>2</td>\n",
       "      <td>0</td>\n",
       "      <td>1</td>\n",
       "      <td>0</td>\n",
       "      <td>0</td>\n",
       "      <td>0</td>\n",
       "      <td>0</td>\n",
       "      <td>0</td>\n",
       "      <td>13</td>\n",
       "      <td>...</td>\n",
       "      <td>-122.237563</td>\n",
       "      <td>14.777140</td>\n",
       "      <td>6.412037</td>\n",
       "      <td>20.365611</td>\n",
       "      <td>11.158445</td>\n",
       "      <td>0.3754</td>\n",
       "      <td>25.530000</td>\n",
       "      <td>12.832200</td>\n",
       "      <td>2.935700</td>\n",
       "      <td>901</td>\n",
       "    </tr>\n",
       "  </tbody>\n",
       "</table>\n",
       "<p>5 rows × 31 columns</p>\n",
       "</div>"
      ],
      "text/plain": [
       "      County  Composting Sites  Compressed Natural Gas Fueling Station  Dairy  \\\n",
       "0    ALAMEDA                 6                                       0      0   \n",
       "1     AMADOR                 1                                       0      0   \n",
       "2      BUTTE                 5                                       0      3   \n",
       "3  CALAVERAS                 1                                       0      0   \n",
       "4     COLUSA                 2                                       0      1   \n",
       "\n",
       "   Digester  Feed Lot  Landfill  Liquefied Natural Gas Fueling Station  \\\n",
       "0         0         0        42                                      3   \n",
       "1         0         0         0                                      0   \n",
       "2         1         0         1                                      0   \n",
       "3         0         0         0                                      0   \n",
       "4         0         0         0                                      0   \n",
       "\n",
       "   Natural Gas Processing Plants  Natural Gas Station  ...  \\\n",
       "0                              0                   35  ...   \n",
       "1                              0                    1  ...   \n",
       "2                              0                    9  ...   \n",
       "3                              0                    2  ...   \n",
       "4                              0                   13  ...   \n",
       "\n",
       "   Centroid_Longitude         TOG        ROG         COT        NOX     SOX  \\\n",
       "0         -121.912488  134.840060  52.964215  218.327664  70.393760  2.1303   \n",
       "1         -120.653856   10.252184   5.091711   19.055692   4.357744  0.1249   \n",
       "2         -121.601919   23.291007  14.396062   69.518978  18.730721  0.2657   \n",
       "3         -120.561442   11.288079   5.075024   21.024100   2.769050  0.0387   \n",
       "4         -122.237563   14.777140   6.412037   20.365611  11.158445  0.3754   \n",
       "\n",
       "          PM       PM10     PM2_5  Total Facilities  \n",
       "0  29.412402  18.091634  8.204909               231  \n",
       "1   8.725638   5.396293  2.941648                 4  \n",
       "2  31.816585  17.991954  5.661389               261  \n",
       "3   5.729100   3.691200  1.326400                 7  \n",
       "4  25.530000  12.832200  2.935700               901  \n",
       "\n",
       "[5 rows x 31 columns]"
      ]
     },
     "execution_count": 150,
     "metadata": {},
     "output_type": "execute_result"
    }
   ],
   "source": [
    "aggregated=aggregated.drop(columns=['Unnamed: 0']).rename(columns={'Closest_County_Centroid':'County'})\n",
    "aggregated.head()"
   ]
  },
  {
   "cell_type": "code",
   "execution_count": 151,
   "metadata": {},
   "outputs": [],
   "source": [
    "#2012 Census Livestock data\n",
    "livestock=pd.read_csv(\"livestock.csv\")\n",
    "livestock=livestock.drop(columns=['Period','Week Ending','State','Geo Level','Program','Zip Code','Region',\n",
    "                                 'County ANSI', 'watershed_code','Watershed','Year'])\n"
   ]
  },
  {
   "cell_type": "code",
   "execution_count": 152,
   "metadata": {},
   "outputs": [],
   "source": [
    "#Livestock sales/initial data cleaning\n",
    "livestock_sales=pd.read_csv('livestock_sales.csv').drop(columns=['Period','Week Ending','State','Geo Level','Program','Zip Code', 'Region',\n",
    "                                 'County ANSI', 'watershed_code','Watershed','Year','Domain Category'])\n",
    "#filter out undisclosed rows\n",
    "livestock_sales= livestock_sales[livestock_sales['Value']!=' (D)']\n"
   ]
  },
  {
   "cell_type": "code",
   "execution_count": 153,
   "metadata": {},
   "outputs": [
    {
     "name": "stdout",
     "output_type": "stream",
     "text": [
      "Counties in aggregated data: 54\n",
      "Counties in livestock_sales: 55\n"
     ]
    }
   ],
   "source": [
    "#Compare data sets\n",
    "print ('Counties in aggregated data:',len(aggregated['County'].unique()))\n",
    "print('Counties in livestock_sales:',len(livestock_sales['County'].unique()))\n",
    "#found that discrepancy was from Nevada county in livestock sales"
   ]
  },
  {
   "cell_type": "code",
   "execution_count": 154,
   "metadata": {},
   "outputs": [
    {
     "data": {
      "text/html": [
       "<div>\n",
       "<style scoped>\n",
       "    .dataframe tbody tr th:only-of-type {\n",
       "        vertical-align: middle;\n",
       "    }\n",
       "\n",
       "    .dataframe tbody tr th {\n",
       "        vertical-align: top;\n",
       "    }\n",
       "\n",
       "    .dataframe thead th {\n",
       "        text-align: right;\n",
       "    }\n",
       "</style>\n",
       "<table border=\"1\" class=\"dataframe\">\n",
       "  <thead>\n",
       "    <tr style=\"text-align: right;\">\n",
       "      <th></th>\n",
       "      <th>State ANSI</th>\n",
       "      <th>Ag District</th>\n",
       "      <th>Ag District Code</th>\n",
       "      <th>County</th>\n",
       "      <th>Commodity</th>\n",
       "      <th>Data Item</th>\n",
       "      <th>Domain</th>\n",
       "      <th>Value</th>\n",
       "      <th>CV (%)</th>\n",
       "    </tr>\n",
       "  </thead>\n",
       "  <tbody>\n",
       "    <tr>\n",
       "      <th>1</th>\n",
       "      <td>6</td>\n",
       "      <td>CENTRAL COAST</td>\n",
       "      <td>40</td>\n",
       "      <td>ALAMEDA</td>\n",
       "      <td>CATTLE</td>\n",
       "      <td>CATTLE, INCL CALVES - SALES, MEASURED IN HEAD</td>\n",
       "      <td>TOTAL</td>\n",
       "      <td>9,421</td>\n",
       "      <td>2.5</td>\n",
       "    </tr>\n",
       "    <tr>\n",
       "      <th>2</th>\n",
       "      <td>6</td>\n",
       "      <td>CENTRAL COAST</td>\n",
       "      <td>40</td>\n",
       "      <td>CONTRA COSTA</td>\n",
       "      <td>CATTLE</td>\n",
       "      <td>CATTLE, INCL CALVES - SALES, MEASURED IN $</td>\n",
       "      <td>TOTAL</td>\n",
       "      <td>12,059,000</td>\n",
       "      <td>2.2</td>\n",
       "    </tr>\n",
       "    <tr>\n",
       "      <th>3</th>\n",
       "      <td>6</td>\n",
       "      <td>CENTRAL COAST</td>\n",
       "      <td>40</td>\n",
       "      <td>CONTRA COSTA</td>\n",
       "      <td>CATTLE</td>\n",
       "      <td>CATTLE, INCL CALVES - SALES, MEASURED IN HEAD</td>\n",
       "      <td>TOTAL</td>\n",
       "      <td>10,680</td>\n",
       "      <td>2.5</td>\n",
       "    </tr>\n",
       "    <tr>\n",
       "      <th>4</th>\n",
       "      <td>6</td>\n",
       "      <td>CENTRAL COAST</td>\n",
       "      <td>40</td>\n",
       "      <td>LAKE</td>\n",
       "      <td>CATTLE</td>\n",
       "      <td>CATTLE, INCL CALVES - SALES, MEASURED IN $</td>\n",
       "      <td>TOTAL</td>\n",
       "      <td>1,032,000</td>\n",
       "      <td>2.2</td>\n",
       "    </tr>\n",
       "    <tr>\n",
       "      <th>5</th>\n",
       "      <td>6</td>\n",
       "      <td>CENTRAL COAST</td>\n",
       "      <td>40</td>\n",
       "      <td>LAKE</td>\n",
       "      <td>CATTLE</td>\n",
       "      <td>CATTLE, INCL CALVES - SALES, MEASURED IN HEAD</td>\n",
       "      <td>TOTAL</td>\n",
       "      <td>1,345</td>\n",
       "      <td>2.5</td>\n",
       "    </tr>\n",
       "  </tbody>\n",
       "</table>\n",
       "</div>"
      ],
      "text/plain": [
       "   State ANSI    Ag District  Ag District Code        County Commodity  \\\n",
       "1           6  CENTRAL COAST                40       ALAMEDA    CATTLE   \n",
       "2           6  CENTRAL COAST                40  CONTRA COSTA    CATTLE   \n",
       "3           6  CENTRAL COAST                40  CONTRA COSTA    CATTLE   \n",
       "4           6  CENTRAL COAST                40          LAKE    CATTLE   \n",
       "5           6  CENTRAL COAST                40          LAKE    CATTLE   \n",
       "\n",
       "                                       Data Item Domain       Value CV (%)  \n",
       "1  CATTLE, INCL CALVES - SALES, MEASURED IN HEAD  TOTAL       9,421    2.5  \n",
       "2     CATTLE, INCL CALVES - SALES, MEASURED IN $  TOTAL  12,059,000    2.2  \n",
       "3  CATTLE, INCL CALVES - SALES, MEASURED IN HEAD  TOTAL      10,680    2.5  \n",
       "4     CATTLE, INCL CALVES - SALES, MEASURED IN $  TOTAL   1,032,000    2.2  \n",
       "5  CATTLE, INCL CALVES - SALES, MEASURED IN HEAD  TOTAL       1,345    2.5  "
      ]
     },
     "execution_count": 154,
     "metadata": {},
     "output_type": "execute_result"
    }
   ],
   "source": [
    "#take out nevada to match\n",
    "l_sales=livestock_sales[livestock_sales['County']!='NEVADA']\n",
    "l_sales.head()"
   ]
  },
  {
   "cell_type": "code",
   "execution_count": 155,
   "metadata": {},
   "outputs": [
    {
     "name": "stderr",
     "output_type": "stream",
     "text": [
      "<ipython-input-155-e11c1f74cb3b>:2: SettingWithCopyWarning: \n",
      "A value is trying to be set on a copy of a slice from a DataFrame.\n",
      "Try using .loc[row_indexer,col_indexer] = value instead\n",
      "\n",
      "See the caveats in the documentation: https://pandas.pydata.org/pandas-docs/stable/user_guide/indexing.html#returning-a-view-versus-a-copy\n",
      "  l_sales['Value'] = (l_sales['Value'].str.split()).apply(lambda x: float(x[0].replace(',', '')))\n"
     ]
    }
   ],
   "source": [
    "#take out comma from vallue to convert into int data type for sorting purposes later\n",
    "l_sales['Value'] = (l_sales['Value'].str.split()).apply(lambda x: float(x[0].replace(',', '')))\n",
    "l_sales.astype({'Value': 'int64'})\n",
    "#Filter out data to include cattle sales by head\n",
    "cattle_head=l_sales[l_sales['Data Item']=='CATTLE, INCL CALVES - SALES, MEASURED IN HEAD']\n",
    "cattle_head=cattle_head.sort_values(by=['Value'],ascending=False)"
   ]
  },
  {
   "cell_type": "code",
   "execution_count": 156,
   "metadata": {},
   "outputs": [],
   "source": [
    "#List of counties to focus on\n",
    "counties=cattle_head.take(np.arange(20),axis=0)['County'].tolist()\n",
    "#top_cattle df represents top 20 counties by cattle sales\n",
    "new=cattle_head['County'].isin(counties)\n",
    "top_cattle=cattle_head[new]\n",
    "#top_agg df represents data of top 20 counties fro aggregated df\n",
    "#agg_new=aggregated['Closest_County_Centroid'].isin(counties)\n"
   ]
  },
  {
   "cell_type": "code",
   "execution_count": 157,
   "metadata": {},
   "outputs": [
    {
     "data": {
      "text/html": [
       "<div>\n",
       "<style scoped>\n",
       "    .dataframe tbody tr th:only-of-type {\n",
       "        vertical-align: middle;\n",
       "    }\n",
       "\n",
       "    .dataframe tbody tr th {\n",
       "        vertical-align: top;\n",
       "    }\n",
       "\n",
       "    .dataframe thead th {\n",
       "        text-align: right;\n",
       "    }\n",
       "</style>\n",
       "<table border=\"1\" class=\"dataframe\">\n",
       "  <thead>\n",
       "    <tr style=\"text-align: right;\">\n",
       "      <th></th>\n",
       "      <th>State ANSI</th>\n",
       "      <th>Ag District</th>\n",
       "      <th>Ag District Code</th>\n",
       "      <th>County</th>\n",
       "      <th>Commodity</th>\n",
       "      <th>Data Item</th>\n",
       "      <th>Domain</th>\n",
       "      <th>2012 Cattle Sales</th>\n",
       "      <th>CV (%)</th>\n",
       "      <th>Composting Sites</th>\n",
       "      <th>...</th>\n",
       "      <th>Centroid_Longitude</th>\n",
       "      <th>TOG</th>\n",
       "      <th>ROG</th>\n",
       "      <th>COT</th>\n",
       "      <th>NOX</th>\n",
       "      <th>SOX</th>\n",
       "      <th>PM</th>\n",
       "      <th>PM10</th>\n",
       "      <th>PM2_5</th>\n",
       "      <th>Total Facilities</th>\n",
       "    </tr>\n",
       "  </thead>\n",
       "  <tbody>\n",
       "    <tr>\n",
       "      <th>0</th>\n",
       "      <td>6</td>\n",
       "      <td>SAN JOAQUIN VALLEY</td>\n",
       "      <td>51</td>\n",
       "      <td>TULARE</td>\n",
       "      <td>CATTLE</td>\n",
       "      <td>CATTLE, INCL CALVES - SALES, MEASURED IN HEAD</td>\n",
       "      <td>TOTAL</td>\n",
       "      <td>779050.0</td>\n",
       "      <td>2.5</td>\n",
       "      <td>6</td>\n",
       "      <td>...</td>\n",
       "      <td>-118.781061</td>\n",
       "      <td>254.948395</td>\n",
       "      <td>49.443024</td>\n",
       "      <td>84.608820</td>\n",
       "      <td>36.035344</td>\n",
       "      <td>0.419658</td>\n",
       "      <td>65.511952</td>\n",
       "      <td>34.756052</td>\n",
       "      <td>7.394933</td>\n",
       "      <td>650</td>\n",
       "    </tr>\n",
       "    <tr>\n",
       "      <th>1</th>\n",
       "      <td>6</td>\n",
       "      <td>SAN JOAQUIN VALLEY</td>\n",
       "      <td>51</td>\n",
       "      <td>FRESNO</td>\n",
       "      <td>CATTLE</td>\n",
       "      <td>CATTLE, INCL CALVES - SALES, MEASURED IN HEAD</td>\n",
       "      <td>TOTAL</td>\n",
       "      <td>388889.0</td>\n",
       "      <td>2.5</td>\n",
       "      <td>4</td>\n",
       "      <td>...</td>\n",
       "      <td>-119.655019</td>\n",
       "      <td>195.205119</td>\n",
       "      <td>60.165304</td>\n",
       "      <td>156.288386</td>\n",
       "      <td>82.024090</td>\n",
       "      <td>1.458423</td>\n",
       "      <td>123.790497</td>\n",
       "      <td>64.417049</td>\n",
       "      <td>15.442359</td>\n",
       "      <td>1023</td>\n",
       "    </tr>\n",
       "    <tr>\n",
       "      <th>2</th>\n",
       "      <td>6</td>\n",
       "      <td>SOUTHERN CALIFORNIA</td>\n",
       "      <td>80</td>\n",
       "      <td>IMPERIAL</td>\n",
       "      <td>CATTLE</td>\n",
       "      <td>CATTLE, INCL CALVES - SALES, MEASURED IN HEAD</td>\n",
       "      <td>TOTAL</td>\n",
       "      <td>356176.0</td>\n",
       "      <td>2.5</td>\n",
       "      <td>9</td>\n",
       "      <td>...</td>\n",
       "      <td>-115.355400</td>\n",
       "      <td>48.130640</td>\n",
       "      <td>16.728691</td>\n",
       "      <td>62.878837</td>\n",
       "      <td>21.541781</td>\n",
       "      <td>0.336700</td>\n",
       "      <td>499.739283</td>\n",
       "      <td>290.422335</td>\n",
       "      <td>39.872535</td>\n",
       "      <td>111</td>\n",
       "    </tr>\n",
       "    <tr>\n",
       "      <th>3</th>\n",
       "      <td>6</td>\n",
       "      <td>SAN JOAQUIN VALLEY</td>\n",
       "      <td>51</td>\n",
       "      <td>KINGS</td>\n",
       "      <td>CATTLE</td>\n",
       "      <td>CATTLE, INCL CALVES - SALES, MEASURED IN HEAD</td>\n",
       "      <td>TOTAL</td>\n",
       "      <td>348481.0</td>\n",
       "      <td>2.5</td>\n",
       "      <td>13</td>\n",
       "      <td>...</td>\n",
       "      <td>-119.815530</td>\n",
       "      <td>151.082364</td>\n",
       "      <td>22.111633</td>\n",
       "      <td>34.796460</td>\n",
       "      <td>18.147092</td>\n",
       "      <td>0.176700</td>\n",
       "      <td>48.718681</td>\n",
       "      <td>24.350481</td>\n",
       "      <td>5.199931</td>\n",
       "      <td>73659</td>\n",
       "    </tr>\n",
       "    <tr>\n",
       "      <th>4</th>\n",
       "      <td>6</td>\n",
       "      <td>SAN JOAQUIN VALLEY</td>\n",
       "      <td>51</td>\n",
       "      <td>MERCED</td>\n",
       "      <td>CATTLE</td>\n",
       "      <td>CATTLE, INCL CALVES - SALES, MEASURED IN HEAD</td>\n",
       "      <td>TOTAL</td>\n",
       "      <td>302103.0</td>\n",
       "      <td>2.5</td>\n",
       "      <td>13</td>\n",
       "      <td>...</td>\n",
       "      <td>-120.722802</td>\n",
       "      <td>194.188434</td>\n",
       "      <td>32.321858</td>\n",
       "      <td>48.118253</td>\n",
       "      <td>28.627078</td>\n",
       "      <td>0.314693</td>\n",
       "      <td>56.367153</td>\n",
       "      <td>28.647753</td>\n",
       "      <td>5.950231</td>\n",
       "      <td>792</td>\n",
       "    </tr>\n",
       "  </tbody>\n",
       "</table>\n",
       "<p>5 rows × 39 columns</p>\n",
       "</div>"
      ],
      "text/plain": [
       "   State ANSI          Ag District  Ag District Code    County Commodity  \\\n",
       "0           6   SAN JOAQUIN VALLEY                51    TULARE    CATTLE   \n",
       "1           6   SAN JOAQUIN VALLEY                51    FRESNO    CATTLE   \n",
       "2           6  SOUTHERN CALIFORNIA                80  IMPERIAL    CATTLE   \n",
       "3           6   SAN JOAQUIN VALLEY                51     KINGS    CATTLE   \n",
       "4           6   SAN JOAQUIN VALLEY                51    MERCED    CATTLE   \n",
       "\n",
       "                                       Data Item Domain  2012 Cattle Sales  \\\n",
       "0  CATTLE, INCL CALVES - SALES, MEASURED IN HEAD  TOTAL           779050.0   \n",
       "1  CATTLE, INCL CALVES - SALES, MEASURED IN HEAD  TOTAL           388889.0   \n",
       "2  CATTLE, INCL CALVES - SALES, MEASURED IN HEAD  TOTAL           356176.0   \n",
       "3  CATTLE, INCL CALVES - SALES, MEASURED IN HEAD  TOTAL           348481.0   \n",
       "4  CATTLE, INCL CALVES - SALES, MEASURED IN HEAD  TOTAL           302103.0   \n",
       "\n",
       "  CV (%)  Composting Sites  ...  Centroid_Longitude         TOG        ROG  \\\n",
       "0    2.5                 6  ...         -118.781061  254.948395  49.443024   \n",
       "1    2.5                 4  ...         -119.655019  195.205119  60.165304   \n",
       "2    2.5                 9  ...         -115.355400   48.130640  16.728691   \n",
       "3    2.5                13  ...         -119.815530  151.082364  22.111633   \n",
       "4    2.5                13  ...         -120.722802  194.188434  32.321858   \n",
       "\n",
       "          COT        NOX       SOX          PM        PM10      PM2_5  \\\n",
       "0   84.608820  36.035344  0.419658   65.511952   34.756052   7.394933   \n",
       "1  156.288386  82.024090  1.458423  123.790497   64.417049  15.442359   \n",
       "2   62.878837  21.541781  0.336700  499.739283  290.422335  39.872535   \n",
       "3   34.796460  18.147092  0.176700   48.718681   24.350481   5.199931   \n",
       "4   48.118253  28.627078  0.314693   56.367153   28.647753   5.950231   \n",
       "\n",
       "   Total Facilities  \n",
       "0               650  \n",
       "1              1023  \n",
       "2               111  \n",
       "3             73659  \n",
       "4               792  \n",
       "\n",
       "[5 rows x 39 columns]"
      ]
     },
     "execution_count": 157,
     "metadata": {},
     "output_type": "execute_result"
    }
   ],
   "source": [
    "# Join tables together\n",
    "combined=pd.merge(cattle_head,aggregated, on='County').rename(columns={'Value':'2012 Cattle Sales'})\n",
    "combined.head()"
   ]
  },
  {
   "cell_type": "code",
   "execution_count": 158,
   "metadata": {},
   "outputs": [
    {
     "data": {
      "text/plain": [
       "Text(0.5, 1.0, 'Cattle Sales vs TOG')"
      ]
     },
     "execution_count": 158,
     "metadata": {},
     "output_type": "execute_result"
    },
    {
     "data": {
      "image/png": "[encoded data removed]",
      "text/plain": [
       "<Figure size 432x288 with 1 Axes>"
      ]
     },
     "metadata": {
      "needs_background": "light"
     },
     "output_type": "display_data"
    }
   ],
   "source": [
    "#visualize relationship between Value and TOG\n",
    "x=combined['2012 Cattle Sales']\n",
    "y=combined['TOG']\n",
    "plt.scatter(x,y)\n",
    "plt.xlabel('Cattle Sales')\n",
    "plt.ylabel('TOG Measurement')\n",
    "plt.title('Cattle Sales vs TOG')"
   ]
  },
  {
   "cell_type": "code",
   "execution_count": 159,
   "metadata": {},
   "outputs": [
    {
     "data": {
      "text/plain": [
       "<matplotlib.collections.PathCollection at 0x7fb085bd6b80>"
      ]
     },
     "execution_count": 159,
     "metadata": {},
     "output_type": "execute_result"
    },
    {
     "data": {
      "image/png": "[encoded data removed]",
      "text/plain": [
       "<Figure size 432x288 with 1 Axes>"
      ]
     },
     "metadata": {
      "needs_background": "light"
     },
     "output_type": "display_data"
    }
   ],
   "source": [
    "sales_100k=combined[combined['2012 Cattle Sales']<=100000]\n",
    "x=sales_100k['2012 Cattle Sales']\n",
    "y=sales_100k['TOG']-sales_100k['ROG']\n",
    "plt.scatter(x,y)"
   ]
  },
  {
   "cell_type": "code",
   "execution_count": 160,
   "metadata": {},
   "outputs": [
    {
     "data": {
      "text/plain": [
       "Text(0.5, 1.0, 'Cattle Sales (squared) vs TOG')"
      ]
     },
     "execution_count": 160,
     "metadata": {},
     "output_type": "execute_result"
    },
    {
     "data": {
      "image/png": "[encoded data removed]",
      "text/plain": [
       "<Figure size 432x288 with 1 Axes>"
      ]
     },
     "metadata": {
      "needs_background": "light"
     },
     "output_type": "display_data"
    }
   ],
   "source": [
    "x=combined['2012 Cattle Sales']**2\n",
    "y=combined['TOG']\n",
    "plt.scatter(x,y)\n",
    "plt.xlabel('Cattle Sales')\n",
    "plt.ylabel('TOG Measurement')\n",
    "plt.title('Cattle Sales (squared) vs TOG')"
   ]
  },
  {
   "cell_type": "code",
   "execution_count": 161,
   "metadata": {},
   "outputs": [
    {
     "data": {
      "text/plain": [
       "Text(0.5, 1.0, 'Square Root of Cattle Sales vs TOG')"
      ]
     },
     "execution_count": 161,
     "metadata": {},
     "output_type": "execute_result"
    },
    {
     "data": {
      "image/png": "[encoded data removed]",
      "text/plain": [
       "<Figure size 432x288 with 1 Axes>"
      ]
     },
     "metadata": {
      "needs_background": "light"
     },
     "output_type": "display_data"
    }
   ],
   "source": [
    "x=np.sqrt(combined['2012 Cattle Sales'])\n",
    "y=combined['TOG']\n",
    "plt.scatter(x,y)\n",
    "plt.xlabel('Cattle Sales')\n",
    "plt.ylabel('TOG Measurement')\n",
    "plt.title('Square Root of Cattle Sales vs TOG')"
   ]
  },
  {
   "cell_type": "code",
   "execution_count": 162,
   "metadata": {},
   "outputs": [
    {
     "data": {
      "text/plain": [
       "Text(0.5, 1.0, 'Cattle Sales(log) vs TOG')"
      ]
     },
     "execution_count": 162,
     "metadata": {},
     "output_type": "execute_result"
    },
    {
     "data": {
      "image/png": "[encoded data removed]",
      "text/plain": [
       "<Figure size 432x288 with 1 Axes>"
      ]
     },
     "metadata": {
      "needs_background": "light"
     },
     "output_type": "display_data"
    }
   ],
   "source": [
    "x=np.log(combined['2012 Cattle Sales'])\n",
    "y=combined['TOG']-combined['ROG']\n",
    "plt.scatter(x,y)\n",
    "plt.xlabel('Cattle Sales')\n",
    "plt.ylabel('TOG Measurement')\n",
    "plt.title('Cattle Sales(log) vs TOG')"
   ]
  },
  {
   "cell_type": "code",
   "execution_count": 163,
   "metadata": {},
   "outputs": [
    {
     "name": "stderr",
     "output_type": "stream",
     "text": [
      "/opt/conda/lib/python3.8/site-packages/scipy/stats/stats.py:4196: SpearmanRConstantInputWarning: An input array is constant; the correlation coefficent is not defined.\n",
      "  warnings.warn(SpearmanRConstantInputWarning())\n"
     ]
    },
    {
     "data": {
      "image/png": "[encoded data removed]",
      "text/plain": [
       "<Figure size 432x702 with 1 Axes>"
      ]
     },
     "metadata": {
      "needs_background": "light"
     },
     "output_type": "display_data"
    }
   ],
   "source": [
    "features= [f for f in combined.columns ]\n",
    "\n",
    "def corr_vis(df, features):\n",
    "    vis = pd.DataFrame()\n",
    "    vis['feature'] = features\n",
    "    vis['spearman'] = [df[f].corr(df['TOG'], 'spearman') for f in features]\n",
    "    #[print(str(features[f]) + \": \" + str(spr['spearman'][f])) for f in range(len(features))]\n",
    "    vis = vis.sort_values('spearman')\n",
    "    plt.figure(figsize=(6, 0.25*len(features)))\n",
    "    ax = sns.barplot(data=vis, y='feature', x='spearman', orient='h')\n",
    "    ax.set(xlabel='correlation')\n",
    "    ax.set(title='Correlation of all features to TOG') \n",
    "\n",
    "corr_vis(combined, features)\n"
   ]
  },
  {
   "cell_type": "code",
   "execution_count": 164,
   "metadata": {},
   "outputs": [],
   "source": [
    "from geopandas import GeoDataFrame\n",
    "clusters=pd.read_csv('counties_vista_emseic_evs_population - counties_vista_emseic_evs_population.csv').rename(columns={'NAME':'County'})\n",
    "clusters['County']=clusters['County'].str.upper() \n",
    "\n",
    "combined_new=pd.merge(clusters,combined, on='County')\n",
    "#combined_new[['TOG_x','TOG_y']]"
   ]
  },
  {
   "cell_type": "markdown",
   "metadata": {},
   "source": [
    "DATA SUMMARY + EDA\n",
    "\n"
   ]
  },
  {
   "cell_type": "markdown",
   "metadata": {},
   "source": [
    "In order to see how we can predict the value of TOG using measurements like Cattle sales, we initially created a basic scatter plot to visualize this relationship.We created multiple variations of this plot to see if there was a possibility of getting a stronger linear relationship. However, the first plot seemed to depict the strongest form of a linear relationship. Lastly, the bar chart aims to summarize the correlation between all the different variables compared to TOG. This will be helpful during the modeling portion of our analysis when we are trying to determine the best features to include in oru model."
   ]
  },
  {
   "cell_type": "markdown",
   "metadata": {},
   "source": [
    "FORECAST + PREDICTION MODELING"
   ]
  },
  {
   "cell_type": "code",
   "execution_count": 165,
   "metadata": {},
   "outputs": [
    {
     "data": {
      "image/png": "[encoded data removed]",
      "text/plain": [
       "<Figure size 432x288 with 1 Axes>"
      ]
     },
     "metadata": {
      "needs_background": "light"
     },
     "output_type": "display_data"
    },
    {
     "name": "stdout",
     "output_type": "stream",
     "text": [
      "The correlation between TOG and Cattle Sales is: 0.2845835124413733\n"
     ]
    }
   ],
   "source": [
    "#predicting cattle population based on \n",
    "from sklearn import datasets, linear_model\n",
    "from sklearn.linear_model import LogisticRegression\n",
    "from sklearn.metrics import mean_squared_error, r2_score\n",
    "\n",
    "model=linear_model.LinearRegression()\n",
    "X = combined[['2012 Cattle Sales']]\n",
    "y = combined[['TOG']]\n",
    "fit_all = model.fit(X, y)\n",
    "y_prediction = fit_all.predict(X)\n",
    "slope = fit_all.coef_[0]\n",
    "\n",
    "plt.scatter(combined['TOG'], y, color='black', marker='.')\n",
    "plt.plot(combined['TOG'], y_prediction, color='red', linewidth=3)\n",
    "\n",
    "plt.title('2012 Cattle Sales vs TOG in California')\n",
    "plt.xlabel('Sales (in Heads)')\n",
    "plt.ylabel('TOG', fontsize=13)\n",
    "plt.show()\n",
    "\n",
    "x=combined['2012 Cattle Sales']\n",
    "y=combined['TOG']\n",
    "print('The correlation between TOG and Cattle Sales is:', x.corr(y))"
   ]
  },
  {
   "cell_type": "markdown",
   "metadata": {},
   "source": [
    "Model #1 (above):\n",
    "The first model uses Linear Regression. Continuing the theme of depicting a linear relationship for our the scatter plot produced in the EDA section, we created a simple linear model meant to describe the relationship between TOG based and cattle sales. This model did not produce very significant results and is likely due to the weak linear relationship between the two variables in the original data set. Further computation of the correlation confirmed the weak relationship."
   ]
  },
  {
   "cell_type": "markdown",
   "metadata": {},
   "source": [
    "Model #2 (below): The goal here is to use features that are relevant to methane emissions to ultimately predict TOG (Total Organic Gases). Here, it is important to keep in mind that TOG captures many different air particles, mostly related to compounds of carbon. Therefore, we don't expect an apples-to-apples estimation but we want to understand the magnitude that variables of interest come together. As such we created a train and test set with x variables being 2012 Cattle Sale, Feed Lot (# of facilities/county), and Dairy (# of facilities/County). After splitting the data into a train and test set, we fit the traning data to a Linear Model and made predictions to ultimately compute the correlation and MSE between the test data and predicted data. To build off of this original train/test split we incorporated the LOOCV to compute the same metrics."
   ]
  },
  {
   "cell_type": "code",
   "execution_count": 166,
   "metadata": {},
   "outputs": [],
   "source": [
    "#predicting TOG based on features related to cattle population\n",
    "from sklearn.model_selection import train_test_split\n",
    "X=combined[['2012 Cattle Sales','Feed Lot','Dairy']]\n",
    "y=combined.TOG\n",
    "X_train, X_test, y_train, y_test = train_test_split(X, y, test_size = .25, random_state=2)"
   ]
  },
  {
   "cell_type": "code",
   "execution_count": 167,
   "metadata": {},
   "outputs": [
    {
     "name": "stdout",
     "output_type": "stream",
     "text": [
      "R^2:  -0.13597244012672216\n",
      "MSE:  37530.244229367396\n"
     ]
    }
   ],
   "source": [
    "#fit training data, predict TOG based on test data\n",
    "\n",
    "lm = LinearRegression()\n",
    "lm.fit(X_train, y_train)\n",
    "predictions = lm.predict(X_test)\n",
    "#predictions[:5]\n",
    "\n",
    "print('R^2: ', r2_score(y_test, predictions))\n",
    "print('MSE: ', mean_squared_error(y_test, predictions))"
   ]
  },
  {
   "cell_type": "code",
   "execution_count": 168,
   "metadata": {},
   "outputs": [
    {
     "name": "stdout",
     "output_type": "stream",
     "text": [
      "R^2 after LOOCV:  -0.06216647519131446\n",
      "MSE after LOOCV:  18314.064046719537\n"
     ]
    }
   ],
   "source": [
    "#Using LOOCV\n",
    "\n",
    "from sklearn.model_selection import LeaveOneOut\n",
    "\n",
    "loo = LeaveOneOut()\n",
    "loo.get_n_splits(X)\n",
    "y_tests = []\n",
    "y_predictions = []\n",
    "for train, test in loo.split(X): \n",
    "    Xr_train, Xr_test = np.array(X)[train], np.array(X)[test] \n",
    "    yr_train, yr_test = np.array(y)[train], np.array(y)[test] \n",
    "    \n",
    "    lr = LinearRegression()\n",
    "    lr.fit(Xr_train, yr_train) \n",
    "    yr_pred = lr.predict(Xr_test) \n",
    "    \n",
    "    y_tests.append(yr_test) \n",
    "    y_predictions.append(yr_pred) \n",
    "\n",
    "r2_loo = r2_score(y_tests, y_predictions) \n",
    "MSE_loo = mean_squared_error(y_tests, y_predictions)\n",
    "print(\"R^2 after LOOCV: \", r2_loo)\n",
    "print(\"MSE after LOOCV: \", MSE_loo)"
   ]
  }
 ],
 "metadata": {
  "kernelspec": {
   "display_name": "Python 3",
   "language": "python",
   "name": "python3"
  },
  "language_info": {
   "codemirror_mode": {
    "name": "ipython",
    "version": 3
   },
   "file_extension": ".py",
   "mimetype": "text/x-python",
   "name": "python",
   "nbconvert_exporter": "python",
   "pygments_lexer": "ipython3",
   "version": "3.7.3"
  }
 },
 "nbformat": 4,
 "nbformat_minor": 4
}
