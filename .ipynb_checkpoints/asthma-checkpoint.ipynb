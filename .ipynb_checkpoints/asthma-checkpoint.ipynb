{
 "cells": [
  {
   "cell_type": "code",
   "execution_count": 317,
   "metadata": {},
   "outputs": [
    {
     "name": "stdout",
     "output_type": "stream",
     "text": [
      "Requirement already satisfied: seaborn in /Library/Frameworks/Python.framework/Versions/3.8/lib/python3.8/site-packages (0.11.0)\n",
      "Requirement already satisfied: pandas>=0.23 in /Library/Frameworks/Python.framework/Versions/3.8/lib/python3.8/site-packages (from seaborn) (1.1.5)\n",
      "Requirement already satisfied: numpy>=1.15 in /Library/Frameworks/Python.framework/Versions/3.8/lib/python3.8/site-packages (from seaborn) (1.19.4)\n",
      "Requirement already satisfied: matplotlib>=2.2 in /Library/Frameworks/Python.framework/Versions/3.8/lib/python3.8/site-packages (from seaborn) (3.3.3)\n",
      "Requirement already satisfied: scipy>=1.0 in /Library/Frameworks/Python.framework/Versions/3.8/lib/python3.8/site-packages (from seaborn) (1.5.4)\n",
      "Requirement already satisfied: python-dateutil>=2.1 in /Library/Frameworks/Python.framework/Versions/3.8/lib/python3.8/site-packages (from matplotlib>=2.2->seaborn) (2.8.1)\n",
      "Requirement already satisfied: pillow>=6.2.0 in /Library/Frameworks/Python.framework/Versions/3.8/lib/python3.8/site-packages (from matplotlib>=2.2->seaborn) (8.0.1)\n",
      "Requirement already satisfied: pyparsing!=2.0.4,!=2.1.2,!=2.1.6,>=2.0.3 in /Library/Frameworks/Python.framework/Versions/3.8/lib/python3.8/site-packages (from matplotlib>=2.2->seaborn) (2.4.7)\n",
      "Requirement already satisfied: numpy>=1.15 in /Library/Frameworks/Python.framework/Versions/3.8/lib/python3.8/site-packages (from seaborn) (1.19.4)\n",
      "Requirement already satisfied: kiwisolver>=1.0.1 in /Library/Frameworks/Python.framework/Versions/3.8/lib/python3.8/site-packages (from matplotlib>=2.2->seaborn) (1.3.1)\n",
      "Requirement already satisfied: cycler>=0.10 in /Library/Frameworks/Python.framework/Versions/3.8/lib/python3.8/site-packages (from matplotlib>=2.2->seaborn) (0.10.0)\n",
      "Requirement already satisfied: six in /Library/Frameworks/Python.framework/Versions/3.8/lib/python3.8/site-packages (from cycler>=0.10->matplotlib>=2.2->seaborn) (1.15.0)\n",
      "Requirement already satisfied: python-dateutil>=2.1 in /Library/Frameworks/Python.framework/Versions/3.8/lib/python3.8/site-packages (from matplotlib>=2.2->seaborn) (2.8.1)\n",
      "Requirement already satisfied: numpy>=1.15 in /Library/Frameworks/Python.framework/Versions/3.8/lib/python3.8/site-packages (from seaborn) (1.19.4)\n",
      "Requirement already satisfied: pytz>=2017.2 in /Library/Frameworks/Python.framework/Versions/3.8/lib/python3.8/site-packages (from pandas>=0.23->seaborn) (2020.4)\n",
      "Requirement already satisfied: six in /Library/Frameworks/Python.framework/Versions/3.8/lib/python3.8/site-packages (from cycler>=0.10->matplotlib>=2.2->seaborn) (1.15.0)\n",
      "Requirement already satisfied: numpy>=1.15 in /Library/Frameworks/Python.framework/Versions/3.8/lib/python3.8/site-packages (from seaborn) (1.19.4)\n",
      "Note: you may need to restart the kernel to use updated packages.\n"
     ]
    }
   ],
   "source": [
    "pip install seaborn"
   ]
  },
  {
   "cell_type": "code",
   "execution_count": 318,
   "metadata": {},
   "outputs": [
    {
     "name": "stdout",
     "output_type": "stream",
     "text": [
      "Requirement already satisfied: geopandas in /Library/Frameworks/Python.framework/Versions/3.8/lib/python3.8/site-packages (0.8.1)\n",
      "Requirement already satisfied: pyproj>=2.2.0 in /Library/Frameworks/Python.framework/Versions/3.8/lib/python3.8/site-packages (from geopandas) (3.0.0.post1)\n",
      "Requirement already satisfied: pandas>=0.23.0 in /Library/Frameworks/Python.framework/Versions/3.8/lib/python3.8/site-packages (from geopandas) (1.1.5)\n",
      "Requirement already satisfied: fiona in /Library/Frameworks/Python.framework/Versions/3.8/lib/python3.8/site-packages (from geopandas) (1.8.18)\n",
      "Requirement already satisfied: shapely in /Library/Frameworks/Python.framework/Versions/3.8/lib/python3.8/site-packages (from geopandas) (1.7.1)\n",
      "Requirement already satisfied: six>=1.7 in /Library/Frameworks/Python.framework/Versions/3.8/lib/python3.8/site-packages (from fiona->geopandas) (1.15.0)\n",
      "Requirement already satisfied: cligj>=0.5 in /Library/Frameworks/Python.framework/Versions/3.8/lib/python3.8/site-packages (from fiona->geopandas) (0.7.1)\n",
      "Requirement already satisfied: click-plugins>=1.0 in /Library/Frameworks/Python.framework/Versions/3.8/lib/python3.8/site-packages (from fiona->geopandas) (1.1.1)\n",
      "Requirement already satisfied: certifi in /Library/Frameworks/Python.framework/Versions/3.8/lib/python3.8/site-packages (from fiona->geopandas) (2020.12.5)\n",
      "Requirement already satisfied: munch in /Library/Frameworks/Python.framework/Versions/3.8/lib/python3.8/site-packages (from fiona->geopandas) (2.5.0)\n",
      "Requirement already satisfied: attrs>=17 in /Library/Frameworks/Python.framework/Versions/3.8/lib/python3.8/site-packages (from fiona->geopandas) (20.3.0)\n",
      "Requirement already satisfied: click<8,>=4.0 in /Library/Frameworks/Python.framework/Versions/3.8/lib/python3.8/site-packages (from fiona->geopandas) (7.1.2)\n",
      "Requirement already satisfied: click<8,>=4.0 in /Library/Frameworks/Python.framework/Versions/3.8/lib/python3.8/site-packages (from fiona->geopandas) (7.1.2)\n",
      "Requirement already satisfied: click<8,>=4.0 in /Library/Frameworks/Python.framework/Versions/3.8/lib/python3.8/site-packages (from fiona->geopandas) (7.1.2)\n",
      "Requirement already satisfied: six>=1.7 in /Library/Frameworks/Python.framework/Versions/3.8/lib/python3.8/site-packages (from fiona->geopandas) (1.15.0)\n",
      "Requirement already satisfied: python-dateutil>=2.7.3 in /Library/Frameworks/Python.framework/Versions/3.8/lib/python3.8/site-packages (from pandas>=0.23.0->geopandas) (2.8.1)\n",
      "Requirement already satisfied: pytz>=2017.2 in /Library/Frameworks/Python.framework/Versions/3.8/lib/python3.8/site-packages (from pandas>=0.23.0->geopandas) (2020.4)\n",
      "Requirement already satisfied: numpy>=1.15.4 in /Library/Frameworks/Python.framework/Versions/3.8/lib/python3.8/site-packages (from pandas>=0.23.0->geopandas) (1.19.4)\n",
      "Requirement already satisfied: certifi in /Library/Frameworks/Python.framework/Versions/3.8/lib/python3.8/site-packages (from fiona->geopandas) (2020.12.5)\n",
      "Requirement already satisfied: six>=1.7 in /Library/Frameworks/Python.framework/Versions/3.8/lib/python3.8/site-packages (from fiona->geopandas) (1.15.0)\n",
      "Note: you may need to restart the kernel to use updated packages.\n"
     ]
    }
   ],
   "source": [
    "pip install geopandas"
   ]
  },
  {
   "cell_type": "code",
   "execution_count": 319,
   "metadata": {},
   "outputs": [
    {
     "name": "stdout",
     "output_type": "stream",
     "text": [
      "Requirement already satisfied: sklearn in /Library/Frameworks/Python.framework/Versions/3.8/lib/python3.8/site-packages (0.0)\n",
      "Requirement already satisfied: scikit-learn in /Library/Frameworks/Python.framework/Versions/3.8/lib/python3.8/site-packages (from sklearn) (0.23.2)\n",
      "Requirement already satisfied: scipy>=0.19.1 in /Library/Frameworks/Python.framework/Versions/3.8/lib/python3.8/site-packages (from scikit-learn->sklearn) (1.5.4)\n",
      "Requirement already satisfied: threadpoolctl>=2.0.0 in /Library/Frameworks/Python.framework/Versions/3.8/lib/python3.8/site-packages (from scikit-learn->sklearn) (2.1.0)\n",
      "Requirement already satisfied: numpy>=1.13.3 in /Library/Frameworks/Python.framework/Versions/3.8/lib/python3.8/site-packages (from scikit-learn->sklearn) (1.19.4)\n",
      "Requirement already satisfied: joblib>=0.11 in /Library/Frameworks/Python.framework/Versions/3.8/lib/python3.8/site-packages (from scikit-learn->sklearn) (0.17.0)\n",
      "Requirement already satisfied: numpy>=1.13.3 in /Library/Frameworks/Python.framework/Versions/3.8/lib/python3.8/site-packages (from scikit-learn->sklearn) (1.19.4)\n",
      "Note: you may need to restart the kernel to use updated packages.\n"
     ]
    }
   ],
   "source": [
    "pip install sklearn"
   ]
  },
  {
   "cell_type": "code",
   "execution_count": 320,
   "metadata": {},
   "outputs": [],
   "source": [
    "#importing libraries\n",
    "import pandas as pd\n",
    "import seaborn as sns\n",
    "import matplotlib.pyplot as plt\n",
    "import numpy as np\n",
    "import geopandas as gpd\n",
    "import csv\n",
    "from sklearn import datasets, linear_model\n",
    "from sklearn.linear_model import LogisticRegression\n",
    "from sklearn.metrics import mean_squared_error, r2_score\n",
    "from sklearn.linear_model import LinearRegression"
   ]
  },
  {
   "cell_type": "code",
   "execution_count": 321,
   "metadata": {},
   "outputs": [
    {
     "data": {
      "text/html": [
       "<div>\n",
       "<style scoped>\n",
       "    .dataframe tbody tr th:only-of-type {\n",
       "        vertical-align: middle;\n",
       "    }\n",
       "\n",
       "    .dataframe tbody tr th {\n",
       "        vertical-align: top;\n",
       "    }\n",
       "\n",
       "    .dataframe thead th {\n",
       "        text-align: right;\n",
       "    }\n",
       "</style>\n",
       "<table border=\"1\" class=\"dataframe\">\n",
       "  <thead>\n",
       "    <tr style=\"text-align: right;\">\n",
       "      <th></th>\n",
       "      <th>Unnamed: 0</th>\n",
       "      <th>Closest_County_Centroid</th>\n",
       "      <th>Composting Sites</th>\n",
       "      <th>Compressed Natural Gas Fueling Station</th>\n",
       "      <th>Dairy</th>\n",
       "      <th>Digester</th>\n",
       "      <th>Feed Lot</th>\n",
       "      <th>Landfill</th>\n",
       "      <th>Liquefied Natural Gas Fueling Station</th>\n",
       "      <th>Natural Gas Processing Plants</th>\n",
       "      <th>...</th>\n",
       "      <th>Centroid_Longitude</th>\n",
       "      <th>TOG</th>\n",
       "      <th>ROG</th>\n",
       "      <th>COT</th>\n",
       "      <th>NOX</th>\n",
       "      <th>SOX</th>\n",
       "      <th>PM</th>\n",
       "      <th>PM10</th>\n",
       "      <th>PM2_5</th>\n",
       "      <th>Total Facilities</th>\n",
       "    </tr>\n",
       "  </thead>\n",
       "  <tbody>\n",
       "    <tr>\n",
       "      <th>0</th>\n",
       "      <td>0</td>\n",
       "      <td>ALAMEDA</td>\n",
       "      <td>6</td>\n",
       "      <td>0</td>\n",
       "      <td>0</td>\n",
       "      <td>0</td>\n",
       "      <td>0</td>\n",
       "      <td>42</td>\n",
       "      <td>3</td>\n",
       "      <td>0</td>\n",
       "      <td>...</td>\n",
       "      <td>-121.912488</td>\n",
       "      <td>134.840060</td>\n",
       "      <td>52.964215</td>\n",
       "      <td>218.327664</td>\n",
       "      <td>70.393760</td>\n",
       "      <td>2.1303</td>\n",
       "      <td>29.412402</td>\n",
       "      <td>18.091634</td>\n",
       "      <td>8.204909</td>\n",
       "      <td>231</td>\n",
       "    </tr>\n",
       "    <tr>\n",
       "      <th>1</th>\n",
       "      <td>1</td>\n",
       "      <td>AMADOR</td>\n",
       "      <td>1</td>\n",
       "      <td>0</td>\n",
       "      <td>0</td>\n",
       "      <td>0</td>\n",
       "      <td>0</td>\n",
       "      <td>0</td>\n",
       "      <td>0</td>\n",
       "      <td>0</td>\n",
       "      <td>...</td>\n",
       "      <td>-120.653856</td>\n",
       "      <td>10.252184</td>\n",
       "      <td>5.091711</td>\n",
       "      <td>19.055692</td>\n",
       "      <td>4.357744</td>\n",
       "      <td>0.1249</td>\n",
       "      <td>8.725638</td>\n",
       "      <td>5.396293</td>\n",
       "      <td>2.941648</td>\n",
       "      <td>4</td>\n",
       "    </tr>\n",
       "    <tr>\n",
       "      <th>2</th>\n",
       "      <td>2</td>\n",
       "      <td>BUTTE</td>\n",
       "      <td>5</td>\n",
       "      <td>0</td>\n",
       "      <td>3</td>\n",
       "      <td>1</td>\n",
       "      <td>0</td>\n",
       "      <td>1</td>\n",
       "      <td>0</td>\n",
       "      <td>0</td>\n",
       "      <td>...</td>\n",
       "      <td>-121.601919</td>\n",
       "      <td>23.291007</td>\n",
       "      <td>14.396062</td>\n",
       "      <td>69.518978</td>\n",
       "      <td>18.730721</td>\n",
       "      <td>0.2657</td>\n",
       "      <td>31.816585</td>\n",
       "      <td>17.991954</td>\n",
       "      <td>5.661389</td>\n",
       "      <td>261</td>\n",
       "    </tr>\n",
       "    <tr>\n",
       "      <th>3</th>\n",
       "      <td>3</td>\n",
       "      <td>CALAVERAS</td>\n",
       "      <td>1</td>\n",
       "      <td>0</td>\n",
       "      <td>0</td>\n",
       "      <td>0</td>\n",
       "      <td>0</td>\n",
       "      <td>0</td>\n",
       "      <td>0</td>\n",
       "      <td>0</td>\n",
       "      <td>...</td>\n",
       "      <td>-120.561442</td>\n",
       "      <td>11.288079</td>\n",
       "      <td>5.075024</td>\n",
       "      <td>21.024100</td>\n",
       "      <td>2.769050</td>\n",
       "      <td>0.0387</td>\n",
       "      <td>5.729100</td>\n",
       "      <td>3.691200</td>\n",
       "      <td>1.326400</td>\n",
       "      <td>7</td>\n",
       "    </tr>\n",
       "    <tr>\n",
       "      <th>4</th>\n",
       "      <td>4</td>\n",
       "      <td>COLUSA</td>\n",
       "      <td>2</td>\n",
       "      <td>0</td>\n",
       "      <td>1</td>\n",
       "      <td>0</td>\n",
       "      <td>0</td>\n",
       "      <td>0</td>\n",
       "      <td>0</td>\n",
       "      <td>0</td>\n",
       "      <td>...</td>\n",
       "      <td>-122.237563</td>\n",
       "      <td>14.777140</td>\n",
       "      <td>6.412037</td>\n",
       "      <td>20.365611</td>\n",
       "      <td>11.158445</td>\n",
       "      <td>0.3754</td>\n",
       "      <td>25.530000</td>\n",
       "      <td>12.832200</td>\n",
       "      <td>2.935700</td>\n",
       "      <td>901</td>\n",
       "    </tr>\n",
       "  </tbody>\n",
       "</table>\n",
       "<p>5 rows × 32 columns</p>\n",
       "</div>"
      ],
      "text/plain": [
       "   Unnamed: 0 Closest_County_Centroid  Composting Sites  \\\n",
       "0           0                 ALAMEDA                 6   \n",
       "1           1                  AMADOR                 1   \n",
       "2           2                   BUTTE                 5   \n",
       "3           3               CALAVERAS                 1   \n",
       "4           4                  COLUSA                 2   \n",
       "\n",
       "   Compressed Natural Gas Fueling Station  Dairy  Digester  Feed Lot  \\\n",
       "0                                       0      0         0         0   \n",
       "1                                       0      0         0         0   \n",
       "2                                       0      3         1         0   \n",
       "3                                       0      0         0         0   \n",
       "4                                       0      1         0         0   \n",
       "\n",
       "   Landfill  Liquefied Natural Gas Fueling Station  \\\n",
       "0        42                                      3   \n",
       "1         0                                      0   \n",
       "2         1                                      0   \n",
       "3         0                                      0   \n",
       "4         0                                      0   \n",
       "\n",
       "   Natural Gas Processing Plants  ...  Centroid_Longitude         TOG  \\\n",
       "0                              0  ...         -121.912488  134.840060   \n",
       "1                              0  ...         -120.653856   10.252184   \n",
       "2                              0  ...         -121.601919   23.291007   \n",
       "3                              0  ...         -120.561442   11.288079   \n",
       "4                              0  ...         -122.237563   14.777140   \n",
       "\n",
       "         ROG         COT        NOX     SOX         PM       PM10     PM2_5  \\\n",
       "0  52.964215  218.327664  70.393760  2.1303  29.412402  18.091634  8.204909   \n",
       "1   5.091711   19.055692   4.357744  0.1249   8.725638   5.396293  2.941648   \n",
       "2  14.396062   69.518978  18.730721  0.2657  31.816585  17.991954  5.661389   \n",
       "3   5.075024   21.024100   2.769050  0.0387   5.729100   3.691200  1.326400   \n",
       "4   6.412037   20.365611  11.158445  0.3754  25.530000  12.832200  2.935700   \n",
       "\n",
       "   Total Facilities  \n",
       "0               231  \n",
       "1                 4  \n",
       "2               261  \n",
       "3                 7  \n",
       "4               901  \n",
       "\n",
       "[5 rows x 32 columns]"
      ]
     },
     "execution_count": 321,
     "metadata": {},
     "output_type": "execute_result"
    }
   ],
   "source": [
    "# read csv with facilities and air pollutants in CA county\n",
    "aggregated=pd.read_csv('aggregated_vista_ca_by_county_emseic_merged - aggregated_vista_ca_by_county_emseic_merged.csv')\n",
    "aggregated.head()"
   ]
  },
  {
   "cell_type": "code",
   "execution_count": 322,
   "metadata": {},
   "outputs": [
    {
     "data": {
      "text/html": [
       "<div>\n",
       "<style scoped>\n",
       "    .dataframe tbody tr th:only-of-type {\n",
       "        vertical-align: middle;\n",
       "    }\n",
       "\n",
       "    .dataframe tbody tr th {\n",
       "        vertical-align: top;\n",
       "    }\n",
       "\n",
       "    .dataframe thead th {\n",
       "        text-align: right;\n",
       "    }\n",
       "</style>\n",
       "<table border=\"1\" class=\"dataframe\">\n",
       "  <thead>\n",
       "    <tr style=\"text-align: right;\">\n",
       "      <th></th>\n",
       "      <th>County</th>\n",
       "      <th>Composting Sites</th>\n",
       "      <th>Compressed Natural Gas Fueling Station</th>\n",
       "      <th>Dairy</th>\n",
       "      <th>Digester</th>\n",
       "      <th>Feed Lot</th>\n",
       "      <th>Landfill</th>\n",
       "      <th>Liquefied Natural Gas Fueling Station</th>\n",
       "      <th>Natural Gas Processing Plants</th>\n",
       "      <th>Natural Gas Station</th>\n",
       "      <th>...</th>\n",
       "      <th>Centroid_Longitude</th>\n",
       "      <th>TOG</th>\n",
       "      <th>ROG</th>\n",
       "      <th>COT</th>\n",
       "      <th>NOX</th>\n",
       "      <th>SOX</th>\n",
       "      <th>PM</th>\n",
       "      <th>PM10</th>\n",
       "      <th>PM2_5</th>\n",
       "      <th>Total Facilities</th>\n",
       "    </tr>\n",
       "  </thead>\n",
       "  <tbody>\n",
       "    <tr>\n",
       "      <th>0</th>\n",
       "      <td>ALAMEDA</td>\n",
       "      <td>6</td>\n",
       "      <td>0</td>\n",
       "      <td>0</td>\n",
       "      <td>0</td>\n",
       "      <td>0</td>\n",
       "      <td>42</td>\n",
       "      <td>3</td>\n",
       "      <td>0</td>\n",
       "      <td>35</td>\n",
       "      <td>...</td>\n",
       "      <td>-121.912488</td>\n",
       "      <td>134.840060</td>\n",
       "      <td>52.964215</td>\n",
       "      <td>218.327664</td>\n",
       "      <td>70.393760</td>\n",
       "      <td>2.1303</td>\n",
       "      <td>29.412402</td>\n",
       "      <td>18.091634</td>\n",
       "      <td>8.204909</td>\n",
       "      <td>231</td>\n",
       "    </tr>\n",
       "    <tr>\n",
       "      <th>1</th>\n",
       "      <td>AMADOR</td>\n",
       "      <td>1</td>\n",
       "      <td>0</td>\n",
       "      <td>0</td>\n",
       "      <td>0</td>\n",
       "      <td>0</td>\n",
       "      <td>0</td>\n",
       "      <td>0</td>\n",
       "      <td>0</td>\n",
       "      <td>1</td>\n",
       "      <td>...</td>\n",
       "      <td>-120.653856</td>\n",
       "      <td>10.252184</td>\n",
       "      <td>5.091711</td>\n",
       "      <td>19.055692</td>\n",
       "      <td>4.357744</td>\n",
       "      <td>0.1249</td>\n",
       "      <td>8.725638</td>\n",
       "      <td>5.396293</td>\n",
       "      <td>2.941648</td>\n",
       "      <td>4</td>\n",
       "    </tr>\n",
       "    <tr>\n",
       "      <th>2</th>\n",
       "      <td>BUTTE</td>\n",
       "      <td>5</td>\n",
       "      <td>0</td>\n",
       "      <td>3</td>\n",
       "      <td>1</td>\n",
       "      <td>0</td>\n",
       "      <td>1</td>\n",
       "      <td>0</td>\n",
       "      <td>0</td>\n",
       "      <td>9</td>\n",
       "      <td>...</td>\n",
       "      <td>-121.601919</td>\n",
       "      <td>23.291007</td>\n",
       "      <td>14.396062</td>\n",
       "      <td>69.518978</td>\n",
       "      <td>18.730721</td>\n",
       "      <td>0.2657</td>\n",
       "      <td>31.816585</td>\n",
       "      <td>17.991954</td>\n",
       "      <td>5.661389</td>\n",
       "      <td>261</td>\n",
       "    </tr>\n",
       "    <tr>\n",
       "      <th>3</th>\n",
       "      <td>CALAVERAS</td>\n",
       "      <td>1</td>\n",
       "      <td>0</td>\n",
       "      <td>0</td>\n",
       "      <td>0</td>\n",
       "      <td>0</td>\n",
       "      <td>0</td>\n",
       "      <td>0</td>\n",
       "      <td>0</td>\n",
       "      <td>2</td>\n",
       "      <td>...</td>\n",
       "      <td>-120.561442</td>\n",
       "      <td>11.288079</td>\n",
       "      <td>5.075024</td>\n",
       "      <td>21.024100</td>\n",
       "      <td>2.769050</td>\n",
       "      <td>0.0387</td>\n",
       "      <td>5.729100</td>\n",
       "      <td>3.691200</td>\n",
       "      <td>1.326400</td>\n",
       "      <td>7</td>\n",
       "    </tr>\n",
       "    <tr>\n",
       "      <th>4</th>\n",
       "      <td>COLUSA</td>\n",
       "      <td>2</td>\n",
       "      <td>0</td>\n",
       "      <td>1</td>\n",
       "      <td>0</td>\n",
       "      <td>0</td>\n",
       "      <td>0</td>\n",
       "      <td>0</td>\n",
       "      <td>0</td>\n",
       "      <td>13</td>\n",
       "      <td>...</td>\n",
       "      <td>-122.237563</td>\n",
       "      <td>14.777140</td>\n",
       "      <td>6.412037</td>\n",
       "      <td>20.365611</td>\n",
       "      <td>11.158445</td>\n",
       "      <td>0.3754</td>\n",
       "      <td>25.530000</td>\n",
       "      <td>12.832200</td>\n",
       "      <td>2.935700</td>\n",
       "      <td>901</td>\n",
       "    </tr>\n",
       "  </tbody>\n",
       "</table>\n",
       "<p>5 rows × 31 columns</p>\n",
       "</div>"
      ],
      "text/plain": [
       "      County  Composting Sites  Compressed Natural Gas Fueling Station  Dairy  \\\n",
       "0    ALAMEDA                 6                                       0      0   \n",
       "1     AMADOR                 1                                       0      0   \n",
       "2      BUTTE                 5                                       0      3   \n",
       "3  CALAVERAS                 1                                       0      0   \n",
       "4     COLUSA                 2                                       0      1   \n",
       "\n",
       "   Digester  Feed Lot  Landfill  Liquefied Natural Gas Fueling Station  \\\n",
       "0         0         0        42                                      3   \n",
       "1         0         0         0                                      0   \n",
       "2         1         0         1                                      0   \n",
       "3         0         0         0                                      0   \n",
       "4         0         0         0                                      0   \n",
       "\n",
       "   Natural Gas Processing Plants  Natural Gas Station  ...  \\\n",
       "0                              0                   35  ...   \n",
       "1                              0                    1  ...   \n",
       "2                              0                    9  ...   \n",
       "3                              0                    2  ...   \n",
       "4                              0                   13  ...   \n",
       "\n",
       "   Centroid_Longitude         TOG        ROG         COT        NOX     SOX  \\\n",
       "0         -121.912488  134.840060  52.964215  218.327664  70.393760  2.1303   \n",
       "1         -120.653856   10.252184   5.091711   19.055692   4.357744  0.1249   \n",
       "2         -121.601919   23.291007  14.396062   69.518978  18.730721  0.2657   \n",
       "3         -120.561442   11.288079   5.075024   21.024100   2.769050  0.0387   \n",
       "4         -122.237563   14.777140   6.412037   20.365611  11.158445  0.3754   \n",
       "\n",
       "          PM       PM10     PM2_5  Total Facilities  \n",
       "0  29.412402  18.091634  8.204909               231  \n",
       "1   8.725638   5.396293  2.941648                 4  \n",
       "2  31.816585  17.991954  5.661389               261  \n",
       "3   5.729100   3.691200  1.326400                 7  \n",
       "4  25.530000  12.832200  2.935700               901  \n",
       "\n",
       "[5 rows x 31 columns]"
      ]
     },
     "execution_count": 322,
     "metadata": {},
     "output_type": "execute_result"
    }
   ],
   "source": [
    "#drop unnecessary columns and rename\n",
    "aggregated=aggregated.drop(columns=['Unnamed: 0']).rename(columns={'Closest_County_Centroid':'County'})\n",
    "aggregated.head()"
   ]
  },
  {
   "cell_type": "code",
   "execution_count": 323,
   "metadata": {},
   "outputs": [],
   "source": [
    "# read in Asthma data\n",
    "asthma_county=pd.read_csv('current-asthma-prevalence-by-county-2015_2018.xlsx - Current prevalence.csv')                          "
   ]
  },
  {
   "cell_type": "code",
   "execution_count": 324,
   "metadata": {},
   "outputs": [
    {
     "data": {
      "text/plain": [
       "826"
      ]
     },
     "execution_count": 324,
     "metadata": {},
     "output_type": "execute_result"
    }
   ],
   "source": [
    "len(asthma_county)"
   ]
  },
  {
   "cell_type": "code",
   "execution_count": 325,
   "metadata": {},
   "outputs": [
    {
     "data": {
      "text/plain": [
       "Sacramento         14\n",
       "Imperial           14\n",
       "Fresno             14\n",
       "Placer             14\n",
       "Madera             14\n",
       "Amador             14\n",
       "Contra Costa       14\n",
       "Modoc              14\n",
       "Kern               14\n",
       "Tuolumne           14\n",
       "San Joaquin        14\n",
       "Sutter             14\n",
       "Calaveras          14\n",
       "Mono               14\n",
       "Sierra             14\n",
       "Lassen             14\n",
       "Plumas             14\n",
       "Orange             14\n",
       "San Benito         14\n",
       "San Diego          14\n",
       "San Bernardino     14\n",
       "Riverside          14\n",
       "Napa               14\n",
       "San Luis Obispo    14\n",
       "Nevada             14\n",
       "Alpine             14\n",
       "Shasta             14\n",
       "Humboldt           14\n",
       "Lake               14\n",
       "Mariposa           14\n",
       "San Mateo          14\n",
       "Santa Cruz         14\n",
       "Santa Clara        14\n",
       "Ventura            14\n",
       "Los Angeles        14\n",
       "Tulare             14\n",
       "Mendocino          14\n",
       "Merced             14\n",
       "Sonoma             14\n",
       "Santa Barbara      14\n",
       "Glenn              14\n",
       "Kings              14\n",
       "San Francisco      14\n",
       "Alameda            14\n",
       "Yuba               14\n",
       "Yolo               14\n",
       "Monterey           14\n",
       "Stanislaus         14\n",
       "California         14\n",
       "El Dorado          14\n",
       "Solano             14\n",
       "Tehama             14\n",
       "Inyo               14\n",
       "Trinity            14\n",
       "Colusa             14\n",
       "Del Norte          14\n",
       "Marin              14\n",
       "Butte              14\n",
       "Siskiyou           14\n",
       "Name: COUNTY, dtype: int64"
      ]
     },
     "execution_count": 325,
     "metadata": {},
     "output_type": "execute_result"
    }
   ],
   "source": [
    "#check why there is so many rows \n",
    "asthma_county[\"COUNTY\"].value_counts()"
   ]
  },
  {
   "cell_type": "code",
   "execution_count": 326,
   "metadata": {},
   "outputs": [
    {
     "name": "stdout",
     "output_type": "stream",
     "text": [
      "(826, 8)\n",
      "COUNTY                     object\n",
      "YEARS                      object\n",
      "STRATA                     object\n",
      "AGE GROUP                  object\n",
      "CURRENT PREVALENCE         object\n",
      "95% CONFIDENCE INTERVAL    object\n",
      "COUNTIES GROUPED           object\n",
      "COMMENT                    object\n",
      "dtype: object\n",
      "            COUNTY      YEARS      STRATA AGE GROUP CURRENT PREVALENCE  \\\n",
      "count          826        826         826       826                457   \n",
      "unique          59          2           3         7                124   \n",
      "top     Sacramento  2017–2018  Age groups  All ages               9.0%   \n",
      "freq            14        413         472       118                 12   \n",
      "\n",
      "       95% CONFIDENCE INTERVAL  \\\n",
      "count                      457   \n",
      "unique                     354   \n",
      "top                 (3.9–27.9)   \n",
      "freq                         7   \n",
      "\n",
      "                                         COUNTIES GROUPED  \\\n",
      "count                                                 238   \n",
      "unique                                                  3   \n",
      "top     Del Norte, Lassen, Modoc, Plumas, Sierra, Sisk...   \n",
      "freq                                                   98   \n",
      "\n",
      "                                                  COMMENT  \n",
      "count                                                 622  \n",
      "unique                                                  2  \n",
      "top     Prevalence not available due to unreliable est...  \n",
      "freq                                                  369  \n",
      "['COUNTY', 'YEARS', 'STRATA', 'AGE GROUP', 'CURRENT PREVALENCE', '95% CONFIDENCE INTERVAL', 'COUNTIES GROUPED', 'COMMENT']\n"
     ]
    }
   ],
   "source": [
    "#see that prevalence of asthma is a string\n",
    "print(asthma_county.shape)\n",
    "print(asthma_county.dtypes)\n",
    "print(asthma_county.describe())\n",
    "print(asthma_county.columns.tolist())"
   ]
  },
  {
   "cell_type": "code",
   "execution_count": 327,
   "metadata": {
    "scrolled": true
   },
   "outputs": [],
   "source": [
    "#make it a float\n",
    "asthma_county['CURRENT PREVALENCE']= asthma_county['CURRENT PREVALENCE'].str.rstrip('%').astype('float') / 100.0"
   ]
  },
  {
   "cell_type": "code",
   "execution_count": 328,
   "metadata": {},
   "outputs": [],
   "source": [
    "asthma_county=asthma_county[asthma_county[\"AGE GROUP\"]==\"All ages\"]"
   ]
  },
  {
   "cell_type": "code",
   "execution_count": 329,
   "metadata": {},
   "outputs": [],
   "source": [
    "asthma_county.drop([\"95% CONFIDENCE INTERVAL\", \"YEARS\",\"COMMENT\", \"AGE GROUP\", \"STRATA\", \"COUNTIES GROUPED\"], axis=1, inplace=True)\n"
   ]
  },
  {
   "cell_type": "code",
   "execution_count": 330,
   "metadata": {},
   "outputs": [],
   "source": [
    "asthma_county.rename(columns = {'COUNTY':'County'}, inplace = True)"
   ]
  },
  {
   "cell_type": "code",
   "execution_count": 331,
   "metadata": {},
   "outputs": [],
   "source": [
    "asthma_county.rename(columns = {'CURRENT PREVALENCE':'Percent Asthma Prevalence'}, inplace = True)"
   ]
  },
  {
   "cell_type": "code",
   "execution_count": 332,
   "metadata": {},
   "outputs": [],
   "source": [
    "#pick year\n",
    "asthma_years_grouped=asthma_county.groupby(\"County\").mean()"
   ]
  },
  {
   "cell_type": "code",
   "execution_count": 333,
   "metadata": {},
   "outputs": [],
   "source": [
    "asthma_years_grouped=asthma_years_grouped.reset_index()"
   ]
  },
  {
   "cell_type": "code",
   "execution_count": 334,
   "metadata": {},
   "outputs": [
    {
     "data": {
      "text/plain": [
       "County                       0\n",
       "Percent Asthma Prevalence    0\n",
       "dtype: int64"
      ]
     },
     "execution_count": 334,
     "metadata": {},
     "output_type": "execute_result"
    }
   ],
   "source": [
    "#check for missing values\n",
    "asthma_years_grouped.isnull().sum()"
   ]
  },
  {
   "cell_type": "code",
   "execution_count": 335,
   "metadata": {},
   "outputs": [],
   "source": [
    "asthma_years_grouped['County']=asthma_years_grouped['County'].str.upper()"
   ]
  },
  {
   "cell_type": "code",
   "execution_count": 337,
   "metadata": {},
   "outputs": [],
   "source": [
    "combined=pd.merge(asthma_years_grouped,aggregated, on='County')"
   ]
  },
  {
   "cell_type": "code",
   "execution_count": 339,
   "metadata": {},
   "outputs": [],
   "source": [
    "combined.drop([\"County\", \"geometry\"], axis=1, inplace=True)\n"
   ]
  },
  {
   "cell_type": "code",
   "execution_count": 340,
   "metadata": {},
   "outputs": [
    {
     "data": {
      "text/plain": [
       "['Percent Asthma Prevalence',\n",
       " 'Composting Sites',\n",
       " 'Compressed Natural Gas Fueling Station',\n",
       " 'Dairy',\n",
       " 'Digester',\n",
       " 'Feed Lot',\n",
       " 'Landfill',\n",
       " 'Liquefied Natural Gas Fueling Station',\n",
       " 'Natural Gas Processing Plants',\n",
       " 'Natural Gas Station',\n",
       " 'Natural Gas Storage Field',\n",
       " 'Oil and Gas Facility Boundary',\n",
       " 'Oil and Gas Field Boundary',\n",
       " 'Oil and Gas Well',\n",
       " 'Power Plant',\n",
       " 'Refinery',\n",
       " 'Wastewater Treatment Plant',\n",
       " 'ALAND',\n",
       " 'AWATER',\n",
       " 'Centroid_Latitude',\n",
       " 'Centroid_Longitude',\n",
       " 'TOG',\n",
       " 'ROG',\n",
       " 'COT',\n",
       " 'NOX',\n",
       " 'SOX',\n",
       " 'PM',\n",
       " 'PM10',\n",
       " 'PM2_5',\n",
       " 'Total Facilities']"
      ]
     },
     "execution_count": 340,
     "metadata": {},
     "output_type": "execute_result"
    }
   ],
   "source": [
    "combined.columns.to_list()"
   ]
  },
  {
   "cell_type": "code",
   "execution_count": 350,
   "metadata": {},
   "outputs": [
    {
     "data": {
      "image/png": "[encoded data removed]",
      "text/plain": [
       "<Figure size 1440x720 with 4 Axes>"
      ]
     },
     "metadata": {
      "needs_background": "light"
     },
     "output_type": "display_data"
    }
   ],
   "source": [
    "# possible solution\n",
    "y = combined[\"Percent Asthma Prevalence\"] # y axis variable\n",
    "ylab = \"Percent Asthma Prevalence\" # y axis label\n",
    "\n",
    "msize = 70 # marker size\n",
    "afsize = 15 # axis font size\n",
    "tfsize = 20 # title font size\n",
    "\n",
    "plt.figure(figsize = (20,10))\n",
    "\n",
    "plt.subplot(221)\n",
    "plt.scatter(combined['TOG'], y, s = msize)\n",
    "plt.xlabel(\"TOG\", fontsize = afsize)\n",
    "plt.ylabel(ylab, fontsize = afsize)\n",
    "\n",
    "plt.subplot(222)\n",
    "plt.scatter(combined['Dairy'], y, s = msize)\n",
    "plt.xlabel(\"Dairy\", fontsize = afsize)\n",
    "plt.ylabel(ylab, fontsize = afsize)\n",
    "\n",
    "plt.subplot(223)\n",
    "plt.scatter(combined['ALAND'], y, s = msize)\n",
    "plt.xlabel(\"ALAND\", fontsize = afsize)\n",
    "plt.ylabel(ylab, fontsize = afsize)\n",
    "\n",
    "plt.subplot(224)\n",
    "plt.scatter(combined['Landfill'], y, s = msize)\n",
    "plt.xlabel(\"Landfill\", fontsize = afsize)\n",
    "plt.ylabel(ylab, fontsize = afsize)\n",
    "\n",
    "plt.suptitle(\"Atmospheric $NO_2$ measurement in the United States\", fontsize = tfsize)\n",
    "\n",
    "plt.subplots_adjust(top=0.5)\n",
    "plt.tight_layout()"
   ]
  },
  {
   "cell_type": "code",
   "execution_count": 362,
   "metadata": {},
   "outputs": [],
   "source": [
    "# solution\n",
    "from sklearn.model_selection import train_test_split\n",
    "\n",
    "X = combined.drop([\"Percent Asthma Prevalence\"], axis=1)\n",
    "y = combined[\"Percent Asthma Prevalence\"]\n",
    "\n",
    "X_train, X_test, y_train, y_test = train_test_split(X, y, test_size=0.1, random_state = 1)"
   ]
  },
  {
   "cell_type": "code",
   "execution_count": 363,
   "metadata": {},
   "outputs": [
    {
     "name": "stdout",
     "output_type": "stream",
     "text": [
      "(48, 29) (48,) (6, 29) (6,)\n"
     ]
    }
   ],
   "source": [
    "print(X_train.shape, y_train.shape, X_test.shape, y_test.shape)"
   ]
  },
  {
   "cell_type": "code",
   "execution_count": 364,
   "metadata": {},
   "outputs": [
    {
     "data": {
      "image/png": "[encoded data removed]",
      "text/plain": [
       "<Figure size 432x288 with 1 Axes>"
      ]
     },
     "metadata": {
      "needs_background": "light"
     },
     "output_type": "display_data"
    }
   ],
   "source": [
    "import sklearn.linear_model as lm\n",
    "\n",
    "linear_model = lm.LinearRegression()\n",
    "\n",
    "# Fit your linear model\n",
    "linear_model.fit(X_train, y_train);\n",
    "\n",
    "# Predict housing prices on the test set\n",
    "Y_pred = linear_model.predict(X_test)\n",
    "\n",
    "# Plot predicted vs true prices\n",
    "plt.scatter(y_test, Y_pred, alpha=0.5)\n",
    "plt.xlabel(\"Asthma Prevalance (%)\")\n",
    "plt.ylabel(\"Predicted Asthma Prevalance (%)\")\n",
    "plt.title(\"Asthma Prevalance in CA vs Asthma Prevalance in CA\");"
   ]
  },
  {
   "cell_type": "code",
   "execution_count": 366,
   "metadata": {},
   "outputs": [
    {
     "name": "stdout",
     "output_type": "stream",
     "text": [
      "Training RMSE: 0.013206958141645075\n",
      "Test RMSE: 0.07428373951601595\n"
     ]
    }
   ],
   "source": [
    "def rmse(actual_y, predicted_y):\n",
    "    \"\"\"\n",
    "    Args:\n",
    "        predicted_y: an array of the prediction from the model\n",
    "        actual_y: an array of the groudtruth label\n",
    "        \n",
    "    Returns:\n",
    "        The root mean square error between the prediction and the groudtruth\n",
    "    \"\"\"\n",
    "    return np.sqrt(np.mean((actual_y - predicted_y) **2))\n",
    "\n",
    "train_error = rmse(y_train, linear_model.predict(X_train))\n",
    "test_error = rmse(y_test, linear_model.predict(X_test))\n",
    "\n",
    "print(\"Training RMSE:\", train_error)\n",
    "print(\"Test RMSE:\", test_error)"
   ]
  },
  {
   "cell_type": "code",
   "execution_count": 371,
   "metadata": {},
   "outputs": [],
   "source": [
    "np.random.seed(32)\n",
    "X_train2, X_test2, Y_train2, Y_test2 = train_test_split(X, y, test_size = 0.10)\n",
    "linear_model.fit(X_train2, Y_train2);"
   ]
  },
  {
   "cell_type": "code",
   "execution_count": 372,
   "metadata": {},
   "outputs": [
    {
     "name": "stdout",
     "output_type": "stream",
     "text": [
      "Training RMSE: 0.015532429965680725\n",
      "Test RMSE: 0.0213856707035085\n"
     ]
    }
   ],
   "source": [
    "train_error2 = rmse(Y_train2, linear_model.predict(X_train2)) \n",
    "test_error2 = rmse(Y_test2, linear_model.predict(X_test2))\n",
    "\n",
    "print(\"Training RMSE:\", train_error2)\n",
    "print(\"Test RMSE:\", test_error2)"
   ]
  },
  {
   "cell_type": "code",
   "execution_count": 373,
   "metadata": {},
   "outputs": [],
   "source": [
    "from sklearn.model_selection import KFold\n",
    "\n",
    "def compute_CV_error(model, X_train, Y_train):\n",
    "    '''\n",
    "    Split the training data into 4 subsets.\n",
    "    For each subset, \n",
    "        fit a model holding out that subset\n",
    "        compute the MSE on that subset (the validation set)\n",
    "    You should be fitting 4 models total.\n",
    "    Return the average MSE of these 4 folds.\n",
    "\n",
    "    Args:\n",
    "        model: an sklearn model with fit and predict functions \n",
    "        X_train (data_frame): Training data\n",
    "        Y_train (data_frame): Label \n",
    "\n",
    "    Return:\n",
    "        the average validation MSE for the 4 splits.\n",
    "    '''\n",
    "    kf = KFold(n_splits=4)\n",
    "    validation_errors = []\n",
    "    \n",
    "    for train_idx, valid_idx in kf.split(X_train):\n",
    "        # split the data\n",
    "        split_X_train, split_X_valid = X_train.iloc[train_idx], X_train.iloc[valid_idx]\n",
    "        split_Y_train, split_Y_valid = y_train.iloc[train_idx], y_train.iloc[valid_idx]\n",
    "\n",
    "        # Fit the model on the training split\n",
    "        model.fit(split_X_train, split_Y_train)\n",
    "        \n",
    "        # Compute the RMSE on the validation split\n",
    "        error = rmse(split_Y_valid, model.predict(split_X_valid))\n",
    "\n",
    "\n",
    "        validation_errors.append(error)\n",
    "        \n",
    "    return np.mean(validation_errors)"
   ]
  },
  {
   "cell_type": "code",
   "execution_count": 375,
   "metadata": {},
   "outputs": [
    {
     "name": "stdout",
     "output_type": "stream",
     "text": [
      "Trying first 1 features\n",
      "\tRMSE: 0.02089986952331044\n",
      "Trying first 2 features\n",
      "\tRMSE: 0.022252520714168864\n",
      "Trying first 3 features\n",
      "\tRMSE: 0.024357553218090154\n",
      "Trying first 4 features\n",
      "\tRMSE: 0.028278572829163635\n",
      "Trying first 5 features\n",
      "\tRMSE: 0.05809188548584534\n",
      "Trying first 6 features\n",
      "\tRMSE: 0.05791998768458954\n",
      "Trying first 7 features\n",
      "\tRMSE: 0.06062834473204425\n",
      "Trying first 8 features\n",
      "\tRMSE: 0.07307481691551457\n",
      "Trying first 9 features\n",
      "\tRMSE: 0.07347068162369678\n",
      "Trying first 10 features\n",
      "\tRMSE: 0.07868741651066644\n",
      "Trying first 11 features\n",
      "\tRMSE: 0.06649604738528926\n",
      "Trying first 12 features\n",
      "\tRMSE: 0.06631454994498215\n",
      "Trying first 13 features\n",
      "\tRMSE: 0.07718537352421723\n",
      "Trying first 14 features\n",
      "\tRMSE: 0.09267435963266088\n",
      "Trying first 15 features\n",
      "\tRMSE: 0.14907712856985098\n",
      "Trying first 16 features\n",
      "\tRMSE: 0.1484549792653578\n",
      "Trying first 17 features\n",
      "\tRMSE: 0.12679974242219966\n",
      "Trying first 18 features\n",
      "\tRMSE: 0.16619184002386228\n",
      "Trying first 19 features\n",
      "\tRMSE: 0.22367472141963643\n",
      "Trying first 20 features\n",
      "\tRMSE: 0.22563623368773464\n",
      "Trying first 21 features\n",
      "\tRMSE: 0.2760208938810748\n",
      "Trying first 22 features\n",
      "\tRMSE: 0.3112159553499086\n",
      "Trying first 23 features\n",
      "\tRMSE: 0.2602040894845562\n",
      "Trying first 24 features\n",
      "\tRMSE: 0.2119547843077906\n",
      "Trying first 25 features\n",
      "\tRMSE: 0.24345515224480818\n",
      "Trying first 26 features\n",
      "\tRMSE: 0.25596952663771777\n",
      "Trying first 27 features\n",
      "\tRMSE: 0.5716994872857424\n",
      "Trying first 28 features\n",
      "\tRMSE: 0.5634399296851171\n",
      "Trying first 29 features\n",
      "\tRMSE: 619.5718877284899\n",
      "Best choice, use the first 1 features\n"
     ]
    }
   ],
   "source": [
    "range_of_num_features=range(1, X_train2.shape[1] + 1)\n",
    "errors = []\n",
    "for N in range_of_num_features:\n",
    "    print(f\"Trying first {N} features\")\n",
    "    model = lm.LinearRegression()\n",
    "    \n",
    "    # compute the cross validation error\n",
    "    error = compute_CV_error(model, X_train2.iloc[:, :N], Y_train2)\n",
    "    \n",
    "    print(\"\\tRMSE:\", error)\n",
    "    errors.append(error)\n",
    "\n",
    "best_num_features = np.argmin(errors) +1\n",
    "best_err = errors[best_num_features -1]\n",
    "\n",
    "print(f\"Best choice, use the first {best_num_features} features\")"
   ]
  },
  {
   "cell_type": "code",
   "execution_count": 376,
   "metadata": {},
   "outputs": [
    {
     "name": "stdout",
     "output_type": "stream",
     "text": [
      "Train RMSE 0.01998708181149686\n",
      "KFold Validation RMSE 0.02089986952331044\n",
      "Test RMSE 0.02204165552428844\n"
     ]
    }
   ],
   "source": [
    "model= lm.LinearRegression()\n",
    "model.fit(X_train2.iloc[:, :best_num_features], Y_train2)\n",
    "\n",
    "# Predict points from our test set and calculate the rmse\n",
    "train_rmse = rmse(model.predict(X_train2.iloc[:, :best_num_features]), Y_train2) \n",
    "test_rmse = rmse(model.predict(X_test2.iloc[:, :best_num_features]), Y_test2)\n",
    "\n",
    "print(\"Train RMSE\", train_rmse)\n",
    "print(\"KFold Validation RMSE\", best_err)\n",
    "print(\"Test RMSE\", test_rmse)"
   ]
  },
  {
   "cell_type": "code",
   "execution_count": 377,
   "metadata": {},
   "outputs": [
    {
     "data": {
      "image/png": "[encoded data removed]",
      "text/plain": [
       "<Figure size 720x432 with 1 Axes>"
      ]
     },
     "metadata": {
      "needs_background": "light"
     },
     "output_type": "display_data"
    }
   ],
   "source": [
    "plt.figure(figsize=(10, 6))\n",
    "plt.scatter(np.arange(len(X_test2)), Y_test2 - model.predict(X_test2.iloc[:, :best_num_features]))\n",
    "plt.xlabel('i')\n",
    "plt.ylabel('residual (true y - estimated y)')\n",
    "plt.title(\"Residual of prediction for i'th house\")\n",
    "plt.axhline(y = 0, color='r');"
   ]
  },
  {
   "cell_type": "code",
   "execution_count": 349,
   "metadata": {},
   "outputs": [
    {
     "name": "stdout",
     "output_type": "stream",
     "text": [
      "[-4.41401238e-04 -4.30323466e-03 -2.00431325e-03 -4.63366635e-03\n",
      " -2.37217979e-03 -1.30497096e-03  1.15194235e-02  1.08037637e-02\n",
      " -2.16963681e-03 -3.70516950e-03 -2.03544102e-03 -1.88353842e-03\n",
      " -1.85746496e-03 -3.23131147e-03  1.26075340e-02 -3.12913369e-03\n",
      " -4.86442637e-13 -3.30578249e-11  3.50866367e-03  1.93397988e-03\n",
      "  4.69951603e-06  1.11118131e-04 -3.63899096e-04  5.01307918e-04\n",
      " -3.35733792e-04 -3.78051499e-04  5.86905913e-04  2.37340192e-03\n",
      "  1.85925497e-03]\n"
     ]
    },
    {
     "name": "stderr",
     "output_type": "stream",
     "text": [
      "/Library/Frameworks/Python.framework/Versions/3.8/lib/python3.8/site-packages/sklearn/linear_model/_ridge.py:147: LinAlgWarning: Ill-conditioned matrix (rcond=2.02049e-22): result may not be accurate.\n",
      "  return linalg.solve(A, Xy, sym_pos=True,\n"
     ]
    }
   ],
   "source": [
    "# solution\n",
    "from sklearn.linear_model import Ridge\n",
    "\n",
    "ridge = Ridge(alpha=1) #create a Ridge regression object\n",
    "ridge.fit(X_train, y_train)\n",
    "ridge_coefficients = ridge.coef_\n",
    "\n",
    "print(ridge_coefficients)"
   ]
  },
  {
   "cell_type": "code",
   "execution_count": 351,
   "metadata": {},
   "outputs": [
    {
     "name": "stdout",
     "output_type": "stream",
     "text": [
      "[-0.00000000e+00 -0.00000000e+00 -0.00000000e+00 -0.00000000e+00\n",
      "  0.00000000e+00 -0.00000000e+00 -0.00000000e+00 -0.00000000e+00\n",
      " -0.00000000e+00  0.00000000e+00  0.00000000e+00 -0.00000000e+00\n",
      "  3.07371496e-07 -0.00000000e+00  0.00000000e+00 -0.00000000e+00\n",
      "  4.38925135e-14 -2.17815981e-11  0.00000000e+00  0.00000000e+00\n",
      " -0.00000000e+00 -0.00000000e+00 -0.00000000e+00 -0.00000000e+00\n",
      "  0.00000000e+00  0.00000000e+00  0.00000000e+00  0.00000000e+00\n",
      "  0.00000000e+00]\n"
     ]
    }
   ],
   "source": [
    "# solution\n",
    "from sklearn.linear_model import Lasso\n",
    "\n",
    "lasso = Lasso()\n",
    "lasso.fit(X_train, y_train)\n",
    "lasso_coefficients = lasso.coef_\n",
    "print(lasso_coefficients)"
   ]
  },
  {
   "cell_type": "code",
   "execution_count": 352,
   "metadata": {},
   "outputs": [],
   "source": [
    "def calculate_mses(alphas, Model):\n",
    "    \"\"\"\n",
    "    Input:\n",
    "        alphas (array): contains floats of various alpha values\n",
    "        Model (sklearn model): the type of sklearn model on which to fit the data\n",
    "    Output:\n",
    "        an array of floats containing the mean-squared-errors from the predictions\n",
    "    \"\"\"\n",
    "    mses = []\n",
    "\n",
    "    for a in alphas:\n",
    "        model = Model(alpha=a)\n",
    "        model.fit(X_train, y_train)\n",
    "        y_pred = model.predict(X_test)\n",
    "        mses.append(mean_squared_error(y_pred, y_test))\n",
    "        \n",
    "    return mses"
   ]
  },
  {
   "cell_type": "code",
   "execution_count": 356,
   "metadata": {},
   "outputs": [
    {
     "name": "stderr",
     "output_type": "stream",
     "text": [
      "/Library/Frameworks/Python.framework/Versions/3.8/lib/python3.8/site-packages/sklearn/linear_model/_coordinate_descent.py:529: ConvergenceWarning: Objective did not converge. You might want to increase the number of iterations. Duality gap: 0.0053987785975617006, tolerance: 1.8989941860465117e-06\n",
      "  model = cd_fast.enet_coordinate_descent(\n"
     ]
    }
   ],
   "source": [
    "lasso_mses = calculate_mses(alphas, Lasso)"
   ]
  },
  {
   "cell_type": "code",
   "execution_count": 357,
   "metadata": {},
   "outputs": [
    {
     "name": "stderr",
     "output_type": "stream",
     "text": [
      "/Library/Frameworks/Python.framework/Versions/3.8/lib/python3.8/site-packages/sklearn/linear_model/_ridge.py:147: LinAlgWarning: Ill-conditioned matrix (rcond=3.07134e-24): result may not be accurate.\n",
      "  return linalg.solve(A, Xy, sym_pos=True,\n",
      "/Library/Frameworks/Python.framework/Versions/3.8/lib/python3.8/site-packages/sklearn/linear_model/_ridge.py:147: LinAlgWarning: Ill-conditioned matrix (rcond=2.93778e-23): result may not be accurate.\n",
      "  return linalg.solve(A, Xy, sym_pos=True,\n",
      "/Library/Frameworks/Python.framework/Versions/3.8/lib/python3.8/site-packages/sklearn/linear_model/_ridge.py:147: LinAlgWarning: Ill-conditioned matrix (rcond=2.02049e-22): result may not be accurate.\n",
      "  return linalg.solve(A, Xy, sym_pos=True,\n",
      "/Library/Frameworks/Python.framework/Versions/3.8/lib/python3.8/site-packages/sklearn/linear_model/_ridge.py:147: LinAlgWarning: Ill-conditioned matrix (rcond=2.52742e-21): result may not be accurate.\n",
      "  return linalg.solve(A, Xy, sym_pos=True,\n",
      "/Library/Frameworks/Python.framework/Versions/3.8/lib/python3.8/site-packages/sklearn/linear_model/_ridge.py:147: LinAlgWarning: Ill-conditioned matrix (rcond=2.22655e-20): result may not be accurate.\n",
      "  return linalg.solve(A, Xy, sym_pos=True,\n",
      "/Library/Frameworks/Python.framework/Versions/3.8/lib/python3.8/site-packages/sklearn/linear_model/_ridge.py:147: LinAlgWarning: Ill-conditioned matrix (rcond=1.78538e-19): result may not be accurate.\n",
      "  return linalg.solve(A, Xy, sym_pos=True,\n",
      "/Library/Frameworks/Python.framework/Versions/3.8/lib/python3.8/site-packages/sklearn/linear_model/_ridge.py:147: LinAlgWarning: Ill-conditioned matrix (rcond=2.00519e-18): result may not be accurate.\n",
      "  return linalg.solve(A, Xy, sym_pos=True,\n",
      "/Library/Frameworks/Python.framework/Versions/3.8/lib/python3.8/site-packages/sklearn/linear_model/_ridge.py:147: LinAlgWarning: Ill-conditioned matrix (rcond=2.33881e-17): result may not be accurate.\n",
      "  return linalg.solve(A, Xy, sym_pos=True,\n"
     ]
    }
   ],
   "source": [
    "ridge_mses = calculate_mses(alphas, Ridge)"
   ]
  },
  {
   "cell_type": "code",
   "execution_count": 358,
   "metadata": {},
   "outputs": [
    {
     "name": "stderr",
     "output_type": "stream",
     "text": [
      "/Library/Frameworks/Python.framework/Versions/3.8/lib/python3.8/site-packages/sklearn/linear_model/_ridge.py:147: LinAlgWarning: Ill-conditioned matrix (rcond=3.07134e-24): result may not be accurate.\n",
      "  return linalg.solve(A, Xy, sym_pos=True,\n",
      "/Library/Frameworks/Python.framework/Versions/3.8/lib/python3.8/site-packages/sklearn/linear_model/_ridge.py:147: LinAlgWarning: Ill-conditioned matrix (rcond=2.93778e-23): result may not be accurate.\n",
      "  return linalg.solve(A, Xy, sym_pos=True,\n",
      "/Library/Frameworks/Python.framework/Versions/3.8/lib/python3.8/site-packages/sklearn/linear_model/_ridge.py:147: LinAlgWarning: Ill-conditioned matrix (rcond=2.02049e-22): result may not be accurate.\n",
      "  return linalg.solve(A, Xy, sym_pos=True,\n",
      "/Library/Frameworks/Python.framework/Versions/3.8/lib/python3.8/site-packages/sklearn/linear_model/_ridge.py:147: LinAlgWarning: Ill-conditioned matrix (rcond=2.52742e-21): result may not be accurate.\n",
      "  return linalg.solve(A, Xy, sym_pos=True,\n",
      "/Library/Frameworks/Python.framework/Versions/3.8/lib/python3.8/site-packages/sklearn/linear_model/_ridge.py:147: LinAlgWarning: Ill-conditioned matrix (rcond=2.22655e-20): result may not be accurate.\n",
      "  return linalg.solve(A, Xy, sym_pos=True,\n",
      "/Library/Frameworks/Python.framework/Versions/3.8/lib/python3.8/site-packages/sklearn/linear_model/_ridge.py:147: LinAlgWarning: Ill-conditioned matrix (rcond=1.78538e-19): result may not be accurate.\n",
      "  return linalg.solve(A, Xy, sym_pos=True,\n",
      "/Library/Frameworks/Python.framework/Versions/3.8/lib/python3.8/site-packages/sklearn/linear_model/_ridge.py:147: LinAlgWarning: Ill-conditioned matrix (rcond=2.00519e-18): result may not be accurate.\n",
      "  return linalg.solve(A, Xy, sym_pos=True,\n",
      "/Library/Frameworks/Python.framework/Versions/3.8/lib/python3.8/site-packages/sklearn/linear_model/_ridge.py:147: LinAlgWarning: Ill-conditioned matrix (rcond=2.33881e-17): result may not be accurate.\n",
      "  return linalg.solve(A, Xy, sym_pos=True,\n"
     ]
    },
    {
     "data": {
      "image/png": "[encoded data removed]",
      "text/plain": [
       "<Figure size 1080x360 with 1 Axes>"
      ]
     },
     "metadata": {
      "needs_background": "light"
     },
     "output_type": "display_data"
    }
   ],
   "source": [
    "\n",
    "alphas = [1e-2, 1e-1, 1, 1e1, 1e2, 1e3, 1e4, 1e5, 1e6, 1e7, 1e8, 1e9]\n",
    "ridge_mses = calculate_mses(alphas, Ridge)\n",
    "\n",
    "plt.figure(figsize = (15,5))\n",
    "plt.plot(np.log10(alphas),lasso_mses, label=r\"lasso regression\")\n",
    "plt.plot(np.log10(alphas), ridge_mses, label=r\"ridge regression\")\n",
    "plt.xlabel(r\"$log_{10}(\\alpha)$\")\n",
    "plt.ylabel(\"Mean squared error\")\n",
    "plt.title(r'Ridge and lasso regression test MSE for different values of $\\alpha$');\n",
    "plt.legend();"
   ]
  },
  {
   "cell_type": "code",
   "execution_count": 104,
   "metadata": {},
   "outputs": [
    {
     "data": {
      "image/png": "[encoded data removed]",
      "text/plain": [
       "<Figure size 432x288 with 1 Axes>"
      ]
     },
     "metadata": {
      "needs_background": "light"
     },
     "output_type": "display_data"
    }
   ],
   "source": [
    "from sklearn import datasets, linear_model\n",
    "from sklearn.linear_model import LogisticRegression\n",
    "from sklearn.metrics import mean_squared_error, r2_score\n",
    "\n",
    "model=linear_model.LinearRegression()\n",
    "X = combined[['CURRENT PREVALENCE']]\n",
    "y = combined[['TOG']]\n",
    "fit_all = model.fit(X, y)\n",
    "y_prediction = fit_all.predict(X)\n",
    "slope = fit_all.coef_[0]\n",
    "\n",
    "plt.scatter(combined['TOG'], y, color='black', marker='.')\n",
    "plt.plot(combined['TOG'], y_prediction, color='red', linewidth=3)\n",
    "\n",
    "plt.title('Asthma Rates vs TOG in California')\n",
    "plt.xlabel('Total Facilities')\n",
    "plt.ylabel('Asthma Rates', fontsize=13)\n",
    "plt.show()"
   ]
  },
  {
   "cell_type": "code",
   "execution_count": null,
   "metadata": {},
   "outputs": [],
   "source": [
    "X = df[[]] # define an array of independent variables\n",
    "y = df[[i_day]] # define an array (usually one-dimension) of target variables\n",
    "lm_incidents = linear_model.LinearRegression() # initiate a linear regression object\n",
    "fit_incidents = lm_incidents.fit(X,y) # fit the linear regression object to your X and y data"
   ]
  }
 ],
 "metadata": {
  "kernelspec": {
   "display_name": "Python 3",
   "language": "python",
   "name": "python3"
  },
  "language_info": {
   "codemirror_mode": {
    "name": "ipython",
    "version": 3
   },
   "file_extension": ".py",
   "mimetype": "text/x-python",
   "name": "python",
   "nbconvert_exporter": "python",
   "pygments_lexer": "ipython3",
   "version": "3.7.3"
  }
 },
 "nbformat": 4,
 "nbformat_minor": 4
}
